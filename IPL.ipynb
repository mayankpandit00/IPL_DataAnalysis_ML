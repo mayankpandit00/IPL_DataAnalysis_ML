{
  "nbformat": 4,
  "nbformat_minor": 0,
  "metadata": {
    "colab": {
      "name": "IPL.ipynb",
      "provenance": []
    },
    "kernelspec": {
      "name": "python3",
      "display_name": "Python 3"
    },
    "language_info": {
      "name": "python"
    },
    "widgets": {
      "application/vnd.jupyter.widget-state+json": {
        "188eea0e0dfe45b0b82326555f5afce1": {
          "model_module": "@jupyter-widgets/controls",
          "model_name": "VBoxModel",
          "model_module_version": "1.5.0",
          "state": {
            "_view_name": "VBoxView",
            "_dom_classes": [
              "widget-interact"
            ],
            "_model_name": "VBoxModel",
            "_view_module": "@jupyter-widgets/controls",
            "_model_module_version": "1.5.0",
            "_view_count": null,
            "_view_module_version": "1.5.0",
            "box_style": "",
            "layout": "IPY_MODEL_0a720a8dd1df47de82d494557ac52136",
            "_model_module": "@jupyter-widgets/controls",
            "children": [
              "IPY_MODEL_f22a59636a2e4e73897475425ef8cc18",
              "IPY_MODEL_7cd9249742834c36b8754cd3fbe1a6f3"
            ]
          }
        },
        "0a720a8dd1df47de82d494557ac52136": {
          "model_module": "@jupyter-widgets/base",
          "model_name": "LayoutModel",
          "model_module_version": "1.2.0",
          "state": {
            "_view_name": "LayoutView",
            "grid_template_rows": null,
            "right": null,
            "justify_content": null,
            "_view_module": "@jupyter-widgets/base",
            "overflow": null,
            "_model_module_version": "1.2.0",
            "_view_count": null,
            "flex_flow": null,
            "width": null,
            "min_width": null,
            "border": null,
            "align_items": null,
            "bottom": null,
            "_model_module": "@jupyter-widgets/base",
            "top": null,
            "grid_column": null,
            "overflow_y": null,
            "overflow_x": null,
            "grid_auto_flow": null,
            "grid_area": null,
            "grid_template_columns": null,
            "flex": null,
            "_model_name": "LayoutModel",
            "justify_items": null,
            "grid_row": null,
            "max_height": null,
            "align_content": null,
            "visibility": null,
            "align_self": null,
            "height": null,
            "min_height": null,
            "padding": null,
            "grid_auto_rows": null,
            "grid_gap": null,
            "max_width": null,
            "order": null,
            "_view_module_version": "1.2.0",
            "grid_template_areas": null,
            "object_position": null,
            "object_fit": null,
            "grid_auto_columns": null,
            "margin": null,
            "display": null,
            "left": null
          }
        },
        "f22a59636a2e4e73897475425ef8cc18": {
          "model_module": "@jupyter-widgets/controls",
          "model_name": "DropdownModel",
          "model_module_version": "1.5.0",
          "state": {
            "_options_labels": [
              "Mumbai Indians",
              "Kolkata Knight Riders",
              "Delhi Capitals",
              "Chennai Super Kings",
              "Sunrisers Hyderabad",
              "Kings XI Punjab",
              "Rajasthan Royals",
              "Royal Challengers Bangalore",
              "Pune Warriors",
              "Gujarat Lions",
              "Rising Pune Supergiants",
              "Kochi Tuskers Kerala"
            ],
            "_view_name": "DropdownView",
            "style": "IPY_MODEL_5b320f59a68c4b19a1d59ca344c0143a",
            "_dom_classes": [],
            "description": "team",
            "_model_name": "DropdownModel",
            "index": 0,
            "_view_module": "@jupyter-widgets/controls",
            "_model_module_version": "1.5.0",
            "_view_count": null,
            "disabled": false,
            "_view_module_version": "1.5.0",
            "description_tooltip": null,
            "_model_module": "@jupyter-widgets/controls",
            "layout": "IPY_MODEL_8d68109215de43c5a3c65bebfa2ba2f0"
          }
        },
        "7cd9249742834c36b8754cd3fbe1a6f3": {
          "model_module": "@jupyter-widgets/output",
          "model_name": "OutputModel",
          "model_module_version": "1.0.0",
          "state": {
            "_view_name": "OutputView",
            "msg_id": "",
            "_dom_classes": [],
            "_model_name": "OutputModel",
            "outputs": [
              {
                "output_type": "display_data",
                "data": {
                  "text/plain": "field    54\nbat      44\nName: toss_decision, dtype: int64"
                },
                "metadata": {}
              }
            ],
            "_view_module": "@jupyter-widgets/output",
            "_model_module_version": "1.0.0",
            "_view_count": null,
            "_view_module_version": "1.0.0",
            "layout": "IPY_MODEL_83bde62b029b41e4a85165374f000b06",
            "_model_module": "@jupyter-widgets/output"
          }
        },
        "5b320f59a68c4b19a1d59ca344c0143a": {
          "model_module": "@jupyter-widgets/controls",
          "model_name": "DescriptionStyleModel",
          "model_module_version": "1.5.0",
          "state": {
            "_view_name": "StyleView",
            "_model_name": "DescriptionStyleModel",
            "description_width": "",
            "_view_module": "@jupyter-widgets/base",
            "_model_module_version": "1.5.0",
            "_view_count": null,
            "_view_module_version": "1.2.0",
            "_model_module": "@jupyter-widgets/controls"
          }
        },
        "8d68109215de43c5a3c65bebfa2ba2f0": {
          "model_module": "@jupyter-widgets/base",
          "model_name": "LayoutModel",
          "model_module_version": "1.2.0",
          "state": {
            "_view_name": "LayoutView",
            "grid_template_rows": null,
            "right": null,
            "justify_content": null,
            "_view_module": "@jupyter-widgets/base",
            "overflow": null,
            "_model_module_version": "1.2.0",
            "_view_count": null,
            "flex_flow": null,
            "width": null,
            "min_width": null,
            "border": null,
            "align_items": null,
            "bottom": null,
            "_model_module": "@jupyter-widgets/base",
            "top": null,
            "grid_column": null,
            "overflow_y": null,
            "overflow_x": null,
            "grid_auto_flow": null,
            "grid_area": null,
            "grid_template_columns": null,
            "flex": null,
            "_model_name": "LayoutModel",
            "justify_items": null,
            "grid_row": null,
            "max_height": null,
            "align_content": null,
            "visibility": null,
            "align_self": null,
            "height": null,
            "min_height": null,
            "padding": null,
            "grid_auto_rows": null,
            "grid_gap": null,
            "max_width": null,
            "order": null,
            "_view_module_version": "1.2.0",
            "grid_template_areas": null,
            "object_position": null,
            "object_fit": null,
            "grid_auto_columns": null,
            "margin": null,
            "display": null,
            "left": null
          }
        },
        "83bde62b029b41e4a85165374f000b06": {
          "model_module": "@jupyter-widgets/base",
          "model_name": "LayoutModel",
          "model_module_version": "1.2.0",
          "state": {
            "_view_name": "LayoutView",
            "grid_template_rows": null,
            "right": null,
            "justify_content": null,
            "_view_module": "@jupyter-widgets/base",
            "overflow": null,
            "_model_module_version": "1.2.0",
            "_view_count": null,
            "flex_flow": null,
            "width": null,
            "min_width": null,
            "border": null,
            "align_items": null,
            "bottom": null,
            "_model_module": "@jupyter-widgets/base",
            "top": null,
            "grid_column": null,
            "overflow_y": null,
            "overflow_x": null,
            "grid_auto_flow": null,
            "grid_area": null,
            "grid_template_columns": null,
            "flex": null,
            "_model_name": "LayoutModel",
            "justify_items": null,
            "grid_row": null,
            "max_height": null,
            "align_content": null,
            "visibility": null,
            "align_self": null,
            "height": null,
            "min_height": null,
            "padding": null,
            "grid_auto_rows": null,
            "grid_gap": null,
            "max_width": null,
            "order": null,
            "_view_module_version": "1.2.0",
            "grid_template_areas": null,
            "object_position": null,
            "object_fit": null,
            "grid_auto_columns": null,
            "margin": null,
            "display": null,
            "left": null
          }
        },
        "7fa686f25495462d86e7850828dba411": {
          "model_module": "@jupyter-widgets/controls",
          "model_name": "VBoxModel",
          "model_module_version": "1.5.0",
          "state": {
            "_view_name": "VBoxView",
            "_dom_classes": [
              "widget-interact"
            ],
            "_model_name": "VBoxModel",
            "_view_module": "@jupyter-widgets/controls",
            "_model_module_version": "1.5.0",
            "_view_count": null,
            "_view_module_version": "1.5.0",
            "box_style": "",
            "layout": "IPY_MODEL_314e6b18488e42228db6abaecc2e249d",
            "_model_module": "@jupyter-widgets/controls",
            "children": [
              "IPY_MODEL_5543624495ea415393352a0b6a0b8720",
              "IPY_MODEL_631458e2b96245629fe7b55f75e6f634"
            ]
          }
        },
        "314e6b18488e42228db6abaecc2e249d": {
          "model_module": "@jupyter-widgets/base",
          "model_name": "LayoutModel",
          "model_module_version": "1.2.0",
          "state": {
            "_view_name": "LayoutView",
            "grid_template_rows": null,
            "right": null,
            "justify_content": null,
            "_view_module": "@jupyter-widgets/base",
            "overflow": null,
            "_model_module_version": "1.2.0",
            "_view_count": null,
            "flex_flow": null,
            "width": null,
            "min_width": null,
            "border": null,
            "align_items": null,
            "bottom": null,
            "_model_module": "@jupyter-widgets/base",
            "top": null,
            "grid_column": null,
            "overflow_y": null,
            "overflow_x": null,
            "grid_auto_flow": null,
            "grid_area": null,
            "grid_template_columns": null,
            "flex": null,
            "_model_name": "LayoutModel",
            "justify_items": null,
            "grid_row": null,
            "max_height": null,
            "align_content": null,
            "visibility": null,
            "align_self": null,
            "height": null,
            "min_height": null,
            "padding": null,
            "grid_auto_rows": null,
            "grid_gap": null,
            "max_width": null,
            "order": null,
            "_view_module_version": "1.2.0",
            "grid_template_areas": null,
            "object_position": null,
            "object_fit": null,
            "grid_auto_columns": null,
            "margin": null,
            "display": null,
            "left": null
          }
        },
        "5543624495ea415393352a0b6a0b8720": {
          "model_module": "@jupyter-widgets/controls",
          "model_name": "DropdownModel",
          "model_module_version": "1.5.0",
          "state": {
            "_options_labels": [
              "Sunrisers Hyderabad",
              "Mumbai Indians",
              "Kings XI Punjab",
              "Chennai Super Kings",
              "Royal Challengers Bangalore",
              "Kolkata Knight Riders",
              "Delhi Capitals",
              "Rajasthan Royals",
              "Pune Warriors",
              "Rising Pune Supergiants",
              "Gujarat Lions",
              "Kochi Tuskers Kerala"
            ],
            "_view_name": "DropdownView",
            "style": "IPY_MODEL_523c364731e9448481146e2c9431d1d1",
            "_dom_classes": [],
            "description": "team_name",
            "_model_name": "DropdownModel",
            "index": 0,
            "_view_module": "@jupyter-widgets/controls",
            "_model_module_version": "1.5.0",
            "_view_count": null,
            "disabled": false,
            "_view_module_version": "1.5.0",
            "description_tooltip": null,
            "_model_module": "@jupyter-widgets/controls",
            "layout": "IPY_MODEL_cf67575f3ecd4980a7f7ce59a6e743b6"
          }
        },
        "631458e2b96245629fe7b55f75e6f634": {
          "model_module": "@jupyter-widgets/output",
          "model_name": "OutputModel",
          "model_module_version": "1.0.0",
          "state": {
            "_view_name": "OutputView",
            "msg_id": "",
            "_dom_classes": [],
            "_model_name": "OutputModel",
            "outputs": [
              {
                "output_type": "display_data",
                "data": {
                  "text/plain": "city       venue                                    \nHyderabad  Rajiv Gandhi International Stadium, Uppal    28\nDelhi      Feroz Shah Kotla                              7\nHyderabad  Rajiv Gandhi Intl. Cricket Stadium            5\nBengaluru  M Chinnaswamy Stadium                         3\nCuttack    Barabati Stadium                              3\ndtype: int64"
                },
                "metadata": {}
              }
            ],
            "_view_module": "@jupyter-widgets/output",
            "_model_module_version": "1.0.0",
            "_view_count": null,
            "_view_module_version": "1.0.0",
            "layout": "IPY_MODEL_3e9f457308a54d2693902cea96ff44d0",
            "_model_module": "@jupyter-widgets/output"
          }
        },
        "523c364731e9448481146e2c9431d1d1": {
          "model_module": "@jupyter-widgets/controls",
          "model_name": "DescriptionStyleModel",
          "model_module_version": "1.5.0",
          "state": {
            "_view_name": "StyleView",
            "_model_name": "DescriptionStyleModel",
            "description_width": "",
            "_view_module": "@jupyter-widgets/base",
            "_model_module_version": "1.5.0",
            "_view_count": null,
            "_view_module_version": "1.2.0",
            "_model_module": "@jupyter-widgets/controls"
          }
        },
        "cf67575f3ecd4980a7f7ce59a6e743b6": {
          "model_module": "@jupyter-widgets/base",
          "model_name": "LayoutModel",
          "model_module_version": "1.2.0",
          "state": {
            "_view_name": "LayoutView",
            "grid_template_rows": null,
            "right": null,
            "justify_content": null,
            "_view_module": "@jupyter-widgets/base",
            "overflow": null,
            "_model_module_version": "1.2.0",
            "_view_count": null,
            "flex_flow": null,
            "width": null,
            "min_width": null,
            "border": null,
            "align_items": null,
            "bottom": null,
            "_model_module": "@jupyter-widgets/base",
            "top": null,
            "grid_column": null,
            "overflow_y": null,
            "overflow_x": null,
            "grid_auto_flow": null,
            "grid_area": null,
            "grid_template_columns": null,
            "flex": null,
            "_model_name": "LayoutModel",
            "justify_items": null,
            "grid_row": null,
            "max_height": null,
            "align_content": null,
            "visibility": null,
            "align_self": null,
            "height": null,
            "min_height": null,
            "padding": null,
            "grid_auto_rows": null,
            "grid_gap": null,
            "max_width": null,
            "order": null,
            "_view_module_version": "1.2.0",
            "grid_template_areas": null,
            "object_position": null,
            "object_fit": null,
            "grid_auto_columns": null,
            "margin": null,
            "display": null,
            "left": null
          }
        },
        "3e9f457308a54d2693902cea96ff44d0": {
          "model_module": "@jupyter-widgets/base",
          "model_name": "LayoutModel",
          "model_module_version": "1.2.0",
          "state": {
            "_view_name": "LayoutView",
            "grid_template_rows": null,
            "right": null,
            "justify_content": null,
            "_view_module": "@jupyter-widgets/base",
            "overflow": null,
            "_model_module_version": "1.2.0",
            "_view_count": null,
            "flex_flow": null,
            "width": null,
            "min_width": null,
            "border": null,
            "align_items": null,
            "bottom": null,
            "_model_module": "@jupyter-widgets/base",
            "top": null,
            "grid_column": null,
            "overflow_y": null,
            "overflow_x": null,
            "grid_auto_flow": null,
            "grid_area": null,
            "grid_template_columns": null,
            "flex": null,
            "_model_name": "LayoutModel",
            "justify_items": null,
            "grid_row": null,
            "max_height": null,
            "align_content": null,
            "visibility": null,
            "align_self": null,
            "height": null,
            "min_height": null,
            "padding": null,
            "grid_auto_rows": null,
            "grid_gap": null,
            "max_width": null,
            "order": null,
            "_view_module_version": "1.2.0",
            "grid_template_areas": null,
            "object_position": null,
            "object_fit": null,
            "grid_auto_columns": null,
            "margin": null,
            "display": null,
            "left": null
          }
        }
      }
    }
  },
  "cells": [
    {
      "cell_type": "markdown",
      "metadata": {
        "id": "3nGttKHTqGkD"
      },
      "source": [
        "# Importing the Libraries"
      ]
    },
    {
      "cell_type": "code",
      "metadata": {
        "id": "VRnKZ8CLqdUT"
      },
      "source": [
        "# Data Manipulation Tool \n",
        "import numpy as np \n",
        "import pandas as pd\n",
        "\n",
        "# Data Visualization Tool\n",
        "import matplotlib.pyplot as plt\n",
        "import seaborn as sns\n",
        "\n",
        "# Interactive Functions\n",
        "from ipywidgets import interact\n",
        "\n",
        "# Splitting Data into Train and Test\n",
        "from sklearn.model_selection import train_test_split\n",
        "\n",
        "# Data Preprocessing\n",
        "from sklearn import preprocessing\n",
        "from sklearn.preprocessing import StandardScaler\n",
        "\n",
        "# Model\n",
        "from xgboost import XGBClassifier\n",
        "from sklearn.ensemble import RandomForestClassifier\n",
        "\n",
        "# Remove Warnings\n",
        "import warnings\n",
        "warnings.filterwarnings('ignore')"
      ],
      "execution_count": 1,
      "outputs": []
    },
    {
      "cell_type": "markdown",
      "metadata": {
        "id": "_E3kA04tqluy"
      },
      "source": [
        "# Importing the Datasets "
      ]
    },
    {
      "cell_type": "markdown",
      "metadata": {
        "id": "_pGAshH8qpa3"
      },
      "source": [
        "## matches.csv : Having Every Match Detail from 2008 to 2019\n"
      ]
    },
    {
      "cell_type": "code",
      "metadata": {
        "id": "lHNn3jjmqkI4"
      },
      "source": [
        "matches = pd.read_csv('/content/matches.csv')"
      ],
      "execution_count": 2,
      "outputs": []
    },
    {
      "cell_type": "markdown",
      "metadata": {
        "id": "nCJw6-BZq0ce"
      },
      "source": [
        "## deliveries.csv : Having Ball by Ball Detail for Every Match"
      ]
    },
    {
      "cell_type": "code",
      "metadata": {
        "id": "sedmmtbTq3nN"
      },
      "source": [
        "deliveries = pd.read_csv('/content/deliveries.csv')"
      ],
      "execution_count": 3,
      "outputs": []
    },
    {
      "cell_type": "markdown",
      "metadata": {
        "id": "iD0ql71mRc4Z"
      },
      "source": [
        "## Combining the Datasets"
      ]
    },
    {
      "cell_type": "code",
      "metadata": {
        "id": "kJ0T3UXLRb27"
      },
      "source": [
        "combined = pd.concat([matches, deliveries], axis=1, join='inner')"
      ],
      "execution_count": 4,
      "outputs": []
    },
    {
      "cell_type": "markdown",
      "metadata": {
        "id": "omNBiqrHC2sl"
      },
      "source": [
        "# Data Analysis"
      ]
    },
    {
      "cell_type": "markdown",
      "metadata": {
        "id": "g2Tdh32ErAQ1"
      },
      "source": [
        "## Exploring the Data\n"
      ]
    },
    {
      "cell_type": "markdown",
      "metadata": {
        "id": "p89Z4aL2skRx"
      },
      "source": [
        "### matches"
      ]
    },
    {
      "cell_type": "code",
      "metadata": {
        "colab": {
          "base_uri": "https://localhost:8080/",
          "height": 446
        },
        "id": "4ZXQ6Bllrw1u",
        "outputId": "4e5c66d1-214b-422f-e6a3-fb9e1e604a57"
      },
      "source": [
        "# Top 5 Data in the Dataset\n",
        "matches.head()"
      ],
      "execution_count": 5,
      "outputs": [
        {
          "output_type": "execute_result",
          "data": {
            "text/html": [
              "<div>\n",
              "<style scoped>\n",
              "    .dataframe tbody tr th:only-of-type {\n",
              "        vertical-align: middle;\n",
              "    }\n",
              "\n",
              "    .dataframe tbody tr th {\n",
              "        vertical-align: top;\n",
              "    }\n",
              "\n",
              "    .dataframe thead th {\n",
              "        text-align: right;\n",
              "    }\n",
              "</style>\n",
              "<table border=\"1\" class=\"dataframe\">\n",
              "  <thead>\n",
              "    <tr style=\"text-align: right;\">\n",
              "      <th></th>\n",
              "      <th>id</th>\n",
              "      <th>season</th>\n",
              "      <th>city</th>\n",
              "      <th>date</th>\n",
              "      <th>team1</th>\n",
              "      <th>team2</th>\n",
              "      <th>toss_winner</th>\n",
              "      <th>toss_decision</th>\n",
              "      <th>result</th>\n",
              "      <th>dl_applied</th>\n",
              "      <th>winner</th>\n",
              "      <th>win_by_runs</th>\n",
              "      <th>win_by_wickets</th>\n",
              "      <th>player_of_match</th>\n",
              "      <th>venue</th>\n",
              "      <th>umpire1</th>\n",
              "      <th>umpire2</th>\n",
              "      <th>umpire3</th>\n",
              "    </tr>\n",
              "  </thead>\n",
              "  <tbody>\n",
              "    <tr>\n",
              "      <th>0</th>\n",
              "      <td>1</td>\n",
              "      <td>2017</td>\n",
              "      <td>Hyderabad</td>\n",
              "      <td>2017-04-05</td>\n",
              "      <td>Sunrisers Hyderabad</td>\n",
              "      <td>Royal Challengers Bangalore</td>\n",
              "      <td>Royal Challengers Bangalore</td>\n",
              "      <td>field</td>\n",
              "      <td>normal</td>\n",
              "      <td>0</td>\n",
              "      <td>Sunrisers Hyderabad</td>\n",
              "      <td>35</td>\n",
              "      <td>0</td>\n",
              "      <td>Yuvraj Singh</td>\n",
              "      <td>Rajiv Gandhi International Stadium, Uppal</td>\n",
              "      <td>AY Dandekar</td>\n",
              "      <td>NJ Llong</td>\n",
              "      <td>NaN</td>\n",
              "    </tr>\n",
              "    <tr>\n",
              "      <th>1</th>\n",
              "      <td>2</td>\n",
              "      <td>2017</td>\n",
              "      <td>Pune</td>\n",
              "      <td>2017-04-06</td>\n",
              "      <td>Mumbai Indians</td>\n",
              "      <td>Rising Pune Supergiant</td>\n",
              "      <td>Rising Pune Supergiant</td>\n",
              "      <td>field</td>\n",
              "      <td>normal</td>\n",
              "      <td>0</td>\n",
              "      <td>Rising Pune Supergiant</td>\n",
              "      <td>0</td>\n",
              "      <td>7</td>\n",
              "      <td>SPD Smith</td>\n",
              "      <td>Maharashtra Cricket Association Stadium</td>\n",
              "      <td>A Nand Kishore</td>\n",
              "      <td>S Ravi</td>\n",
              "      <td>NaN</td>\n",
              "    </tr>\n",
              "    <tr>\n",
              "      <th>2</th>\n",
              "      <td>3</td>\n",
              "      <td>2017</td>\n",
              "      <td>Rajkot</td>\n",
              "      <td>2017-04-07</td>\n",
              "      <td>Gujarat Lions</td>\n",
              "      <td>Kolkata Knight Riders</td>\n",
              "      <td>Kolkata Knight Riders</td>\n",
              "      <td>field</td>\n",
              "      <td>normal</td>\n",
              "      <td>0</td>\n",
              "      <td>Kolkata Knight Riders</td>\n",
              "      <td>0</td>\n",
              "      <td>10</td>\n",
              "      <td>CA Lynn</td>\n",
              "      <td>Saurashtra Cricket Association Stadium</td>\n",
              "      <td>Nitin Menon</td>\n",
              "      <td>CK Nandan</td>\n",
              "      <td>NaN</td>\n",
              "    </tr>\n",
              "    <tr>\n",
              "      <th>3</th>\n",
              "      <td>4</td>\n",
              "      <td>2017</td>\n",
              "      <td>Indore</td>\n",
              "      <td>2017-04-08</td>\n",
              "      <td>Rising Pune Supergiant</td>\n",
              "      <td>Kings XI Punjab</td>\n",
              "      <td>Kings XI Punjab</td>\n",
              "      <td>field</td>\n",
              "      <td>normal</td>\n",
              "      <td>0</td>\n",
              "      <td>Kings XI Punjab</td>\n",
              "      <td>0</td>\n",
              "      <td>6</td>\n",
              "      <td>GJ Maxwell</td>\n",
              "      <td>Holkar Cricket Stadium</td>\n",
              "      <td>AK Chaudhary</td>\n",
              "      <td>C Shamshuddin</td>\n",
              "      <td>NaN</td>\n",
              "    </tr>\n",
              "    <tr>\n",
              "      <th>4</th>\n",
              "      <td>5</td>\n",
              "      <td>2017</td>\n",
              "      <td>Bangalore</td>\n",
              "      <td>2017-04-08</td>\n",
              "      <td>Royal Challengers Bangalore</td>\n",
              "      <td>Delhi Daredevils</td>\n",
              "      <td>Royal Challengers Bangalore</td>\n",
              "      <td>bat</td>\n",
              "      <td>normal</td>\n",
              "      <td>0</td>\n",
              "      <td>Royal Challengers Bangalore</td>\n",
              "      <td>15</td>\n",
              "      <td>0</td>\n",
              "      <td>KM Jadhav</td>\n",
              "      <td>M Chinnaswamy Stadium</td>\n",
              "      <td>NaN</td>\n",
              "      <td>NaN</td>\n",
              "      <td>NaN</td>\n",
              "    </tr>\n",
              "  </tbody>\n",
              "</table>\n",
              "</div>"
            ],
            "text/plain": [
              "   id  season       city  ...         umpire1        umpire2 umpire3\n",
              "0   1    2017  Hyderabad  ...     AY Dandekar       NJ Llong     NaN\n",
              "1   2    2017       Pune  ...  A Nand Kishore         S Ravi     NaN\n",
              "2   3    2017     Rajkot  ...     Nitin Menon      CK Nandan     NaN\n",
              "3   4    2017     Indore  ...    AK Chaudhary  C Shamshuddin     NaN\n",
              "4   5    2017  Bangalore  ...             NaN            NaN     NaN\n",
              "\n",
              "[5 rows x 18 columns]"
            ]
          },
          "metadata": {},
          "execution_count": 5
        }
      ]
    },
    {
      "cell_type": "code",
      "metadata": {
        "colab": {
          "base_uri": "https://localhost:8080/",
          "height": 378
        },
        "id": "fiBperIVtcgp",
        "outputId": "37262556-dedf-4346-8b69-90130239496c"
      },
      "source": [
        "# Bottom 5 Data in the Dataset\n",
        "matches.tail()"
      ],
      "execution_count": 6,
      "outputs": [
        {
          "output_type": "execute_result",
          "data": {
            "text/html": [
              "<div>\n",
              "<style scoped>\n",
              "    .dataframe tbody tr th:only-of-type {\n",
              "        vertical-align: middle;\n",
              "    }\n",
              "\n",
              "    .dataframe tbody tr th {\n",
              "        vertical-align: top;\n",
              "    }\n",
              "\n",
              "    .dataframe thead th {\n",
              "        text-align: right;\n",
              "    }\n",
              "</style>\n",
              "<table border=\"1\" class=\"dataframe\">\n",
              "  <thead>\n",
              "    <tr style=\"text-align: right;\">\n",
              "      <th></th>\n",
              "      <th>id</th>\n",
              "      <th>season</th>\n",
              "      <th>city</th>\n",
              "      <th>date</th>\n",
              "      <th>team1</th>\n",
              "      <th>team2</th>\n",
              "      <th>toss_winner</th>\n",
              "      <th>toss_decision</th>\n",
              "      <th>result</th>\n",
              "      <th>dl_applied</th>\n",
              "      <th>winner</th>\n",
              "      <th>win_by_runs</th>\n",
              "      <th>win_by_wickets</th>\n",
              "      <th>player_of_match</th>\n",
              "      <th>venue</th>\n",
              "      <th>umpire1</th>\n",
              "      <th>umpire2</th>\n",
              "      <th>umpire3</th>\n",
              "    </tr>\n",
              "  </thead>\n",
              "  <tbody>\n",
              "    <tr>\n",
              "      <th>751</th>\n",
              "      <td>11347</td>\n",
              "      <td>2019</td>\n",
              "      <td>Mumbai</td>\n",
              "      <td>05/05/19</td>\n",
              "      <td>Kolkata Knight Riders</td>\n",
              "      <td>Mumbai Indians</td>\n",
              "      <td>Mumbai Indians</td>\n",
              "      <td>field</td>\n",
              "      <td>normal</td>\n",
              "      <td>0</td>\n",
              "      <td>Mumbai Indians</td>\n",
              "      <td>0</td>\n",
              "      <td>9</td>\n",
              "      <td>HH Pandya</td>\n",
              "      <td>Wankhede Stadium</td>\n",
              "      <td>Nanda Kishore</td>\n",
              "      <td>O Nandan</td>\n",
              "      <td>S Ravi</td>\n",
              "    </tr>\n",
              "    <tr>\n",
              "      <th>752</th>\n",
              "      <td>11412</td>\n",
              "      <td>2019</td>\n",
              "      <td>Chennai</td>\n",
              "      <td>07/05/19</td>\n",
              "      <td>Chennai Super Kings</td>\n",
              "      <td>Mumbai Indians</td>\n",
              "      <td>Chennai Super Kings</td>\n",
              "      <td>bat</td>\n",
              "      <td>normal</td>\n",
              "      <td>0</td>\n",
              "      <td>Mumbai Indians</td>\n",
              "      <td>0</td>\n",
              "      <td>6</td>\n",
              "      <td>AS Yadav</td>\n",
              "      <td>M. A. Chidambaram Stadium</td>\n",
              "      <td>Nigel Llong</td>\n",
              "      <td>Nitin Menon</td>\n",
              "      <td>Ian Gould</td>\n",
              "    </tr>\n",
              "    <tr>\n",
              "      <th>753</th>\n",
              "      <td>11413</td>\n",
              "      <td>2019</td>\n",
              "      <td>Visakhapatnam</td>\n",
              "      <td>08/05/19</td>\n",
              "      <td>Sunrisers Hyderabad</td>\n",
              "      <td>Delhi Capitals</td>\n",
              "      <td>Delhi Capitals</td>\n",
              "      <td>field</td>\n",
              "      <td>normal</td>\n",
              "      <td>0</td>\n",
              "      <td>Delhi Capitals</td>\n",
              "      <td>0</td>\n",
              "      <td>2</td>\n",
              "      <td>RR Pant</td>\n",
              "      <td>ACA-VDCA Stadium</td>\n",
              "      <td>NaN</td>\n",
              "      <td>NaN</td>\n",
              "      <td>NaN</td>\n",
              "    </tr>\n",
              "    <tr>\n",
              "      <th>754</th>\n",
              "      <td>11414</td>\n",
              "      <td>2019</td>\n",
              "      <td>Visakhapatnam</td>\n",
              "      <td>10/05/19</td>\n",
              "      <td>Delhi Capitals</td>\n",
              "      <td>Chennai Super Kings</td>\n",
              "      <td>Chennai Super Kings</td>\n",
              "      <td>field</td>\n",
              "      <td>normal</td>\n",
              "      <td>0</td>\n",
              "      <td>Chennai Super Kings</td>\n",
              "      <td>0</td>\n",
              "      <td>6</td>\n",
              "      <td>F du Plessis</td>\n",
              "      <td>ACA-VDCA Stadium</td>\n",
              "      <td>Sundaram Ravi</td>\n",
              "      <td>Bruce Oxenford</td>\n",
              "      <td>Chettithody Shamshuddin</td>\n",
              "    </tr>\n",
              "    <tr>\n",
              "      <th>755</th>\n",
              "      <td>11415</td>\n",
              "      <td>2019</td>\n",
              "      <td>Hyderabad</td>\n",
              "      <td>12/05/19</td>\n",
              "      <td>Mumbai Indians</td>\n",
              "      <td>Chennai Super Kings</td>\n",
              "      <td>Mumbai Indians</td>\n",
              "      <td>bat</td>\n",
              "      <td>normal</td>\n",
              "      <td>0</td>\n",
              "      <td>Mumbai Indians</td>\n",
              "      <td>1</td>\n",
              "      <td>0</td>\n",
              "      <td>JJ Bumrah</td>\n",
              "      <td>Rajiv Gandhi Intl. Cricket Stadium</td>\n",
              "      <td>Nitin Menon</td>\n",
              "      <td>Ian Gould</td>\n",
              "      <td>Nigel Llong</td>\n",
              "    </tr>\n",
              "  </tbody>\n",
              "</table>\n",
              "</div>"
            ],
            "text/plain": [
              "        id  season  ...         umpire2                  umpire3\n",
              "751  11347    2019  ...        O Nandan                   S Ravi\n",
              "752  11412    2019  ...     Nitin Menon                Ian Gould\n",
              "753  11413    2019  ...             NaN                      NaN\n",
              "754  11414    2019  ...  Bruce Oxenford  Chettithody Shamshuddin\n",
              "755  11415    2019  ...       Ian Gould              Nigel Llong\n",
              "\n",
              "[5 rows x 18 columns]"
            ]
          },
          "metadata": {},
          "execution_count": 6
        }
      ]
    },
    {
      "cell_type": "code",
      "metadata": {
        "colab": {
          "base_uri": "https://localhost:8080/"
        },
        "id": "EP8PFILSsoHg",
        "outputId": "12d9f81c-5aae-4f2d-de3c-7b56dd407cac"
      },
      "source": [
        "# All NaN Values\n",
        "matches.isnull().sum()"
      ],
      "execution_count": 7,
      "outputs": [
        {
          "output_type": "execute_result",
          "data": {
            "text/plain": [
              "id                   0\n",
              "season               0\n",
              "city                 7\n",
              "date                 0\n",
              "team1                0\n",
              "team2                0\n",
              "toss_winner          0\n",
              "toss_decision        0\n",
              "result               0\n",
              "dl_applied           0\n",
              "winner               4\n",
              "win_by_runs          0\n",
              "win_by_wickets       0\n",
              "player_of_match      4\n",
              "venue                0\n",
              "umpire1              2\n",
              "umpire2              2\n",
              "umpire3            637\n",
              "dtype: int64"
            ]
          },
          "metadata": {},
          "execution_count": 7
        }
      ]
    },
    {
      "cell_type": "code",
      "metadata": {
        "colab": {
          "base_uri": "https://localhost:8080/"
        },
        "id": "L9oyVn9jsszh",
        "outputId": "04bc011e-c71a-49da-88ed-eef05003f3b1"
      },
      "source": [
        "# Rows and Columns in the Dataset\n",
        "matches.shape"
      ],
      "execution_count": 8,
      "outputs": [
        {
          "output_type": "execute_result",
          "data": {
            "text/plain": [
              "(756, 18)"
            ]
          },
          "metadata": {},
          "execution_count": 8
        }
      ]
    },
    {
      "cell_type": "code",
      "metadata": {
        "colab": {
          "base_uri": "https://localhost:8080/"
        },
        "id": "QakiUQF9miKK",
        "outputId": "928e4563-652a-4d41-feef-6702a7b22775"
      },
      "source": [
        "# Datatypes of each Column\n",
        "matches.dtypes"
      ],
      "execution_count": 9,
      "outputs": [
        {
          "output_type": "execute_result",
          "data": {
            "text/plain": [
              "id                  int64\n",
              "season              int64\n",
              "city               object\n",
              "date               object\n",
              "team1              object\n",
              "team2              object\n",
              "toss_winner        object\n",
              "toss_decision      object\n",
              "result             object\n",
              "dl_applied          int64\n",
              "winner             object\n",
              "win_by_runs         int64\n",
              "win_by_wickets      int64\n",
              "player_of_match    object\n",
              "venue              object\n",
              "umpire1            object\n",
              "umpire2            object\n",
              "umpire3            object\n",
              "dtype: object"
            ]
          },
          "metadata": {},
          "execution_count": 9
        }
      ]
    },
    {
      "cell_type": "code",
      "metadata": {
        "id": "R1yO-t0tswep"
      },
      "source": [
        "# Too many NaN Values, therefore dropping this column\n",
        "matches.drop('umpire3', axis=1, inplace=True)"
      ],
      "execution_count": 10,
      "outputs": []
    },
    {
      "cell_type": "code",
      "metadata": {
        "id": "-8qx40Fi9DpH"
      },
      "source": [
        "# Won't be using DL, therefore dropping this column\n",
        "matches.drop('dl_applied', axis=1, inplace=True)"
      ],
      "execution_count": 11,
      "outputs": []
    },
    {
      "cell_type": "code",
      "metadata": {
        "colab": {
          "base_uri": "https://localhost:8080/"
        },
        "id": "t8BoNrqCs3y8",
        "outputId": "46fb1c69-4a03-43e0-d4b9-c122fd0f0a09"
      },
      "source": [
        "# All the Column Names After Dropping \n",
        "matches.columns"
      ],
      "execution_count": 12,
      "outputs": [
        {
          "output_type": "execute_result",
          "data": {
            "text/plain": [
              "Index(['id', 'season', 'city', 'date', 'team1', 'team2', 'toss_winner',\n",
              "       'toss_decision', 'result', 'winner', 'win_by_runs', 'win_by_wickets',\n",
              "       'player_of_match', 'venue', 'umpire1', 'umpire2'],\n",
              "      dtype='object')"
            ]
          },
          "metadata": {},
          "execution_count": 12
        }
      ]
    },
    {
      "cell_type": "markdown",
      "metadata": {
        "id": "XbKjPEewGLF7"
      },
      "source": [
        "### deliveries"
      ]
    },
    {
      "cell_type": "code",
      "metadata": {
        "colab": {
          "base_uri": "https://localhost:8080/",
          "height": 395
        },
        "id": "4xLr5MuKGNS5",
        "outputId": "2e3b5f0b-20f2-45f8-9653-6a74773e8c93"
      },
      "source": [
        "# Top 5 Data in the Dataset\n",
        "deliveries.head()"
      ],
      "execution_count": 13,
      "outputs": [
        {
          "output_type": "execute_result",
          "data": {
            "text/html": [
              "<div>\n",
              "<style scoped>\n",
              "    .dataframe tbody tr th:only-of-type {\n",
              "        vertical-align: middle;\n",
              "    }\n",
              "\n",
              "    .dataframe tbody tr th {\n",
              "        vertical-align: top;\n",
              "    }\n",
              "\n",
              "    .dataframe thead th {\n",
              "        text-align: right;\n",
              "    }\n",
              "</style>\n",
              "<table border=\"1\" class=\"dataframe\">\n",
              "  <thead>\n",
              "    <tr style=\"text-align: right;\">\n",
              "      <th></th>\n",
              "      <th>match_id</th>\n",
              "      <th>inning</th>\n",
              "      <th>batting_team</th>\n",
              "      <th>bowling_team</th>\n",
              "      <th>over</th>\n",
              "      <th>ball</th>\n",
              "      <th>batsman</th>\n",
              "      <th>non_striker</th>\n",
              "      <th>bowler</th>\n",
              "      <th>is_super_over</th>\n",
              "      <th>wide_runs</th>\n",
              "      <th>bye_runs</th>\n",
              "      <th>legbye_runs</th>\n",
              "      <th>noball_runs</th>\n",
              "      <th>penalty_runs</th>\n",
              "      <th>batsman_runs</th>\n",
              "      <th>extra_runs</th>\n",
              "      <th>total_runs</th>\n",
              "      <th>player_dismissed</th>\n",
              "      <th>dismissal_kind</th>\n",
              "      <th>fielder</th>\n",
              "    </tr>\n",
              "  </thead>\n",
              "  <tbody>\n",
              "    <tr>\n",
              "      <th>0</th>\n",
              "      <td>1</td>\n",
              "      <td>1</td>\n",
              "      <td>Sunrisers Hyderabad</td>\n",
              "      <td>Royal Challengers Bangalore</td>\n",
              "      <td>1</td>\n",
              "      <td>1</td>\n",
              "      <td>DA Warner</td>\n",
              "      <td>S Dhawan</td>\n",
              "      <td>TS Mills</td>\n",
              "      <td>0</td>\n",
              "      <td>0</td>\n",
              "      <td>0</td>\n",
              "      <td>0</td>\n",
              "      <td>0</td>\n",
              "      <td>0</td>\n",
              "      <td>0</td>\n",
              "      <td>0</td>\n",
              "      <td>0</td>\n",
              "      <td>NaN</td>\n",
              "      <td>NaN</td>\n",
              "      <td>NaN</td>\n",
              "    </tr>\n",
              "    <tr>\n",
              "      <th>1</th>\n",
              "      <td>1</td>\n",
              "      <td>1</td>\n",
              "      <td>Sunrisers Hyderabad</td>\n",
              "      <td>Royal Challengers Bangalore</td>\n",
              "      <td>1</td>\n",
              "      <td>2</td>\n",
              "      <td>DA Warner</td>\n",
              "      <td>S Dhawan</td>\n",
              "      <td>TS Mills</td>\n",
              "      <td>0</td>\n",
              "      <td>0</td>\n",
              "      <td>0</td>\n",
              "      <td>0</td>\n",
              "      <td>0</td>\n",
              "      <td>0</td>\n",
              "      <td>0</td>\n",
              "      <td>0</td>\n",
              "      <td>0</td>\n",
              "      <td>NaN</td>\n",
              "      <td>NaN</td>\n",
              "      <td>NaN</td>\n",
              "    </tr>\n",
              "    <tr>\n",
              "      <th>2</th>\n",
              "      <td>1</td>\n",
              "      <td>1</td>\n",
              "      <td>Sunrisers Hyderabad</td>\n",
              "      <td>Royal Challengers Bangalore</td>\n",
              "      <td>1</td>\n",
              "      <td>3</td>\n",
              "      <td>DA Warner</td>\n",
              "      <td>S Dhawan</td>\n",
              "      <td>TS Mills</td>\n",
              "      <td>0</td>\n",
              "      <td>0</td>\n",
              "      <td>0</td>\n",
              "      <td>0</td>\n",
              "      <td>0</td>\n",
              "      <td>0</td>\n",
              "      <td>4</td>\n",
              "      <td>0</td>\n",
              "      <td>4</td>\n",
              "      <td>NaN</td>\n",
              "      <td>NaN</td>\n",
              "      <td>NaN</td>\n",
              "    </tr>\n",
              "    <tr>\n",
              "      <th>3</th>\n",
              "      <td>1</td>\n",
              "      <td>1</td>\n",
              "      <td>Sunrisers Hyderabad</td>\n",
              "      <td>Royal Challengers Bangalore</td>\n",
              "      <td>1</td>\n",
              "      <td>4</td>\n",
              "      <td>DA Warner</td>\n",
              "      <td>S Dhawan</td>\n",
              "      <td>TS Mills</td>\n",
              "      <td>0</td>\n",
              "      <td>0</td>\n",
              "      <td>0</td>\n",
              "      <td>0</td>\n",
              "      <td>0</td>\n",
              "      <td>0</td>\n",
              "      <td>0</td>\n",
              "      <td>0</td>\n",
              "      <td>0</td>\n",
              "      <td>NaN</td>\n",
              "      <td>NaN</td>\n",
              "      <td>NaN</td>\n",
              "    </tr>\n",
              "    <tr>\n",
              "      <th>4</th>\n",
              "      <td>1</td>\n",
              "      <td>1</td>\n",
              "      <td>Sunrisers Hyderabad</td>\n",
              "      <td>Royal Challengers Bangalore</td>\n",
              "      <td>1</td>\n",
              "      <td>5</td>\n",
              "      <td>DA Warner</td>\n",
              "      <td>S Dhawan</td>\n",
              "      <td>TS Mills</td>\n",
              "      <td>0</td>\n",
              "      <td>2</td>\n",
              "      <td>0</td>\n",
              "      <td>0</td>\n",
              "      <td>0</td>\n",
              "      <td>0</td>\n",
              "      <td>0</td>\n",
              "      <td>2</td>\n",
              "      <td>2</td>\n",
              "      <td>NaN</td>\n",
              "      <td>NaN</td>\n",
              "      <td>NaN</td>\n",
              "    </tr>\n",
              "  </tbody>\n",
              "</table>\n",
              "</div>"
            ],
            "text/plain": [
              "   match_id  inning  ... dismissal_kind fielder\n",
              "0         1       1  ...            NaN     NaN\n",
              "1         1       1  ...            NaN     NaN\n",
              "2         1       1  ...            NaN     NaN\n",
              "3         1       1  ...            NaN     NaN\n",
              "4         1       1  ...            NaN     NaN\n",
              "\n",
              "[5 rows x 21 columns]"
            ]
          },
          "metadata": {},
          "execution_count": 13
        }
      ]
    },
    {
      "cell_type": "code",
      "metadata": {
        "id": "caboqf8NGOad",
        "colab": {
          "base_uri": "https://localhost:8080/",
          "height": 310
        },
        "outputId": "d60897f2-a868-4993-b720-381615c196a0"
      },
      "source": [
        "# Bottom 5 Data in the Dataset\n",
        "deliveries.tail()"
      ],
      "execution_count": 14,
      "outputs": [
        {
          "output_type": "execute_result",
          "data": {
            "text/html": [
              "<div>\n",
              "<style scoped>\n",
              "    .dataframe tbody tr th:only-of-type {\n",
              "        vertical-align: middle;\n",
              "    }\n",
              "\n",
              "    .dataframe tbody tr th {\n",
              "        vertical-align: top;\n",
              "    }\n",
              "\n",
              "    .dataframe thead th {\n",
              "        text-align: right;\n",
              "    }\n",
              "</style>\n",
              "<table border=\"1\" class=\"dataframe\">\n",
              "  <thead>\n",
              "    <tr style=\"text-align: right;\">\n",
              "      <th></th>\n",
              "      <th>match_id</th>\n",
              "      <th>inning</th>\n",
              "      <th>batting_team</th>\n",
              "      <th>bowling_team</th>\n",
              "      <th>over</th>\n",
              "      <th>ball</th>\n",
              "      <th>batsman</th>\n",
              "      <th>non_striker</th>\n",
              "      <th>bowler</th>\n",
              "      <th>is_super_over</th>\n",
              "      <th>wide_runs</th>\n",
              "      <th>bye_runs</th>\n",
              "      <th>legbye_runs</th>\n",
              "      <th>noball_runs</th>\n",
              "      <th>penalty_runs</th>\n",
              "      <th>batsman_runs</th>\n",
              "      <th>extra_runs</th>\n",
              "      <th>total_runs</th>\n",
              "      <th>player_dismissed</th>\n",
              "      <th>dismissal_kind</th>\n",
              "      <th>fielder</th>\n",
              "    </tr>\n",
              "  </thead>\n",
              "  <tbody>\n",
              "    <tr>\n",
              "      <th>179073</th>\n",
              "      <td>11415</td>\n",
              "      <td>2</td>\n",
              "      <td>Chennai Super Kings</td>\n",
              "      <td>Mumbai Indians</td>\n",
              "      <td>20</td>\n",
              "      <td>2</td>\n",
              "      <td>RA Jadeja</td>\n",
              "      <td>SR Watson</td>\n",
              "      <td>SL Malinga</td>\n",
              "      <td>0</td>\n",
              "      <td>0</td>\n",
              "      <td>0</td>\n",
              "      <td>0</td>\n",
              "      <td>0</td>\n",
              "      <td>0</td>\n",
              "      <td>1</td>\n",
              "      <td>0</td>\n",
              "      <td>1</td>\n",
              "      <td>NaN</td>\n",
              "      <td>NaN</td>\n",
              "      <td>NaN</td>\n",
              "    </tr>\n",
              "    <tr>\n",
              "      <th>179074</th>\n",
              "      <td>11415</td>\n",
              "      <td>2</td>\n",
              "      <td>Chennai Super Kings</td>\n",
              "      <td>Mumbai Indians</td>\n",
              "      <td>20</td>\n",
              "      <td>3</td>\n",
              "      <td>SR Watson</td>\n",
              "      <td>RA Jadeja</td>\n",
              "      <td>SL Malinga</td>\n",
              "      <td>0</td>\n",
              "      <td>0</td>\n",
              "      <td>0</td>\n",
              "      <td>0</td>\n",
              "      <td>0</td>\n",
              "      <td>0</td>\n",
              "      <td>2</td>\n",
              "      <td>0</td>\n",
              "      <td>2</td>\n",
              "      <td>NaN</td>\n",
              "      <td>NaN</td>\n",
              "      <td>NaN</td>\n",
              "    </tr>\n",
              "    <tr>\n",
              "      <th>179075</th>\n",
              "      <td>11415</td>\n",
              "      <td>2</td>\n",
              "      <td>Chennai Super Kings</td>\n",
              "      <td>Mumbai Indians</td>\n",
              "      <td>20</td>\n",
              "      <td>4</td>\n",
              "      <td>SR Watson</td>\n",
              "      <td>RA Jadeja</td>\n",
              "      <td>SL Malinga</td>\n",
              "      <td>0</td>\n",
              "      <td>0</td>\n",
              "      <td>0</td>\n",
              "      <td>0</td>\n",
              "      <td>0</td>\n",
              "      <td>0</td>\n",
              "      <td>1</td>\n",
              "      <td>0</td>\n",
              "      <td>1</td>\n",
              "      <td>SR Watson</td>\n",
              "      <td>run out</td>\n",
              "      <td>KH Pandya</td>\n",
              "    </tr>\n",
              "    <tr>\n",
              "      <th>179076</th>\n",
              "      <td>11415</td>\n",
              "      <td>2</td>\n",
              "      <td>Chennai Super Kings</td>\n",
              "      <td>Mumbai Indians</td>\n",
              "      <td>20</td>\n",
              "      <td>5</td>\n",
              "      <td>SN Thakur</td>\n",
              "      <td>RA Jadeja</td>\n",
              "      <td>SL Malinga</td>\n",
              "      <td>0</td>\n",
              "      <td>0</td>\n",
              "      <td>0</td>\n",
              "      <td>0</td>\n",
              "      <td>0</td>\n",
              "      <td>0</td>\n",
              "      <td>2</td>\n",
              "      <td>0</td>\n",
              "      <td>2</td>\n",
              "      <td>NaN</td>\n",
              "      <td>NaN</td>\n",
              "      <td>NaN</td>\n",
              "    </tr>\n",
              "    <tr>\n",
              "      <th>179077</th>\n",
              "      <td>11415</td>\n",
              "      <td>2</td>\n",
              "      <td>Chennai Super Kings</td>\n",
              "      <td>Mumbai Indians</td>\n",
              "      <td>20</td>\n",
              "      <td>6</td>\n",
              "      <td>SN Thakur</td>\n",
              "      <td>RA Jadeja</td>\n",
              "      <td>SL Malinga</td>\n",
              "      <td>0</td>\n",
              "      <td>0</td>\n",
              "      <td>0</td>\n",
              "      <td>0</td>\n",
              "      <td>0</td>\n",
              "      <td>0</td>\n",
              "      <td>0</td>\n",
              "      <td>0</td>\n",
              "      <td>0</td>\n",
              "      <td>SN Thakur</td>\n",
              "      <td>lbw</td>\n",
              "      <td>NaN</td>\n",
              "    </tr>\n",
              "  </tbody>\n",
              "</table>\n",
              "</div>"
            ],
            "text/plain": [
              "        match_id  inning  ... dismissal_kind    fielder\n",
              "179073     11415       2  ...            NaN        NaN\n",
              "179074     11415       2  ...            NaN        NaN\n",
              "179075     11415       2  ...        run out  KH Pandya\n",
              "179076     11415       2  ...            NaN        NaN\n",
              "179077     11415       2  ...            lbw        NaN\n",
              "\n",
              "[5 rows x 21 columns]"
            ]
          },
          "metadata": {},
          "execution_count": 14
        }
      ]
    },
    {
      "cell_type": "code",
      "metadata": {
        "id": "RM64oaXTGOYU",
        "colab": {
          "base_uri": "https://localhost:8080/"
        },
        "outputId": "84ab76fa-8c3b-455f-e5dd-efed4770ec0e"
      },
      "source": [
        "# All NaN Values\n",
        "deliveries.isnull().sum()"
      ],
      "execution_count": 15,
      "outputs": [
        {
          "output_type": "execute_result",
          "data": {
            "text/plain": [
              "match_id                 0\n",
              "inning                   0\n",
              "batting_team             0\n",
              "bowling_team             0\n",
              "over                     0\n",
              "ball                     0\n",
              "batsman                  0\n",
              "non_striker              0\n",
              "bowler                   0\n",
              "is_super_over            0\n",
              "wide_runs                0\n",
              "bye_runs                 0\n",
              "legbye_runs              0\n",
              "noball_runs              0\n",
              "penalty_runs             0\n",
              "batsman_runs             0\n",
              "extra_runs               0\n",
              "total_runs               0\n",
              "player_dismissed    170244\n",
              "dismissal_kind      170244\n",
              "fielder             172630\n",
              "dtype: int64"
            ]
          },
          "metadata": {},
          "execution_count": 15
        }
      ]
    },
    {
      "cell_type": "code",
      "metadata": {
        "id": "EefD3-nRGoYR",
        "colab": {
          "base_uri": "https://localhost:8080/"
        },
        "outputId": "49cbbbff-f3e5-4fb2-8a12-8e1aa9faf6e4"
      },
      "source": [
        "# Rows and Columns in the Dataset\n",
        "deliveries.shape"
      ],
      "execution_count": 16,
      "outputs": [
        {
          "output_type": "execute_result",
          "data": {
            "text/plain": [
              "(179078, 21)"
            ]
          },
          "metadata": {},
          "execution_count": 16
        }
      ]
    },
    {
      "cell_type": "code",
      "metadata": {
        "id": "mj0tvzXUA8Qh",
        "colab": {
          "base_uri": "https://localhost:8080/"
        },
        "outputId": "6a8c2f0a-9398-4014-981f-95078079d178"
      },
      "source": [
        "# Datatypes of each Column\n",
        "deliveries.dtypes"
      ],
      "execution_count": 17,
      "outputs": [
        {
          "output_type": "execute_result",
          "data": {
            "text/plain": [
              "match_id             int64\n",
              "inning               int64\n",
              "batting_team        object\n",
              "bowling_team        object\n",
              "over                 int64\n",
              "ball                 int64\n",
              "batsman             object\n",
              "non_striker         object\n",
              "bowler              object\n",
              "is_super_over        int64\n",
              "wide_runs            int64\n",
              "bye_runs             int64\n",
              "legbye_runs          int64\n",
              "noball_runs          int64\n",
              "penalty_runs         int64\n",
              "batsman_runs         int64\n",
              "extra_runs           int64\n",
              "total_runs           int64\n",
              "player_dismissed    object\n",
              "dismissal_kind      object\n",
              "fielder             object\n",
              "dtype: object"
            ]
          },
          "metadata": {},
          "execution_count": 17
        }
      ]
    },
    {
      "cell_type": "code",
      "metadata": {
        "id": "FaUbG5pnGoWV",
        "colab": {
          "base_uri": "https://localhost:8080/"
        },
        "outputId": "ef6bac9e-e17f-495c-e3df-21872d6a9def"
      },
      "source": [
        "# All the Column Names\n",
        "deliveries.columns"
      ],
      "execution_count": 18,
      "outputs": [
        {
          "output_type": "execute_result",
          "data": {
            "text/plain": [
              "Index(['match_id', 'inning', 'batting_team', 'bowling_team', 'over', 'ball',\n",
              "       'batsman', 'non_striker', 'bowler', 'is_super_over', 'wide_runs',\n",
              "       'bye_runs', 'legbye_runs', 'noball_runs', 'penalty_runs',\n",
              "       'batsman_runs', 'extra_runs', 'total_runs', 'player_dismissed',\n",
              "       'dismissal_kind', 'fielder'],\n",
              "      dtype='object')"
            ]
          },
          "metadata": {},
          "execution_count": 18
        }
      ]
    },
    {
      "cell_type": "markdown",
      "metadata": {
        "id": "dh99Dzgt2YxN"
      },
      "source": [
        "## Cleaning the Data"
      ]
    },
    {
      "cell_type": "markdown",
      "metadata": {
        "id": "_OKf8sDv4zQG"
      },
      "source": [
        "### Filling the Values of City Based on Venue"
      ]
    },
    {
      "cell_type": "code",
      "metadata": {
        "id": "ER872vzU2bLL"
      },
      "source": [
        "conditions = [matches[\"venue\"] == \"Rajiv Gandhi International Stadium, Uppal\", \n",
        "              matches[\"venue\"] == \"Maharashtra Cricket Association Stadium\",\n",
        "              matches[\"venue\"] == \"Saurashtra Cricket Association Stadium\", \n",
        "              matches[\"venue\"] == \"Holkar Cricket Stadium\",\n",
        "              matches[\"venue\"] == \"M Chinnaswamy Stadium\", \n",
        "              matches[\"venue\"] == \"Wankhede Stadium\",\n",
        "              matches[\"venue\"] == \"Eden Gardens\", \n",
        "              matches[\"venue\"] == \"Feroz Shah Kotla\",\n",
        "              matches[\"venue\"] == \"Punjab Cricket Association IS Bindra Stadium, Mohali\", \n",
        "              matches[\"venue\"] == \"Green Park\",\n",
        "              matches[\"venue\"] == \"Punjab Cricket Association Stadium, Mohali\", \n",
        "              matches[\"venue\"] == \"Dr DY Patil Sports Academy\",\n",
        "              matches[\"venue\"] == \"Sawai Mansingh Stadium\", \n",
        "              matches[\"venue\"] == \"MA Chidambaram Stadium, Chepauk\", \n",
        "              matches[\"venue\"] == \"Newlands\", \n",
        "              matches[\"venue\"] == \"St George's Park\" , \n",
        "              matches[\"venue\"] == \"Kingsmead\", \n",
        "              matches[\"venue\"] == \"SuperSport Park\",\n",
        "              matches[\"venue\"] == \"Buffalo Park\", \n",
        "              matches[\"venue\"] == \"New Wanderers Stadium\",\n",
        "              matches[\"venue\"] == \"De Beers Diamond Oval\", \n",
        "              matches[\"venue\"] == \"OUTsurance Oval\", \n",
        "              matches[\"venue\"] == \"Brabourne Stadium\", \n",
        "              matches[\"venue\"] == \"Sardar Patel Stadium\", \n",
        "              matches[\"venue\"] == \"Barabati Stadium\", \n",
        "              matches[\"venue\"] == \"Vidarbha Cricket Association Stadium, Jamtha\",\n",
        "              matches[\"venue\"] == \"Himachal Pradesh Cricket Association Stadium\", \n",
        "              matches[\"venue\"] == \"Nehru Stadium\",\n",
        "              matches[\"venue\"] == \"Dr. Y.S. Rajasekhara Reddy ACA-VDCA Cricket Stadium\", \n",
        "              matches[\"venue\"] == \"Subrata Roy Sahara Stadium\",\n",
        "              matches[\"venue\"] == \"Shaheed Veer Narayan Singh International Stadium\", \n",
        "              matches[\"venue\"] == \"JSCA International Stadium Complex\",\n",
        "              matches[\"venue\"] == \"Sheikh Zayed Stadium\",\n",
        "              matches[\"venue\"] == \"Sharjah Cricket Stadium\",\n",
        "              matches[\"venue\"] == \"Dubai International Cricket Stadium\",\n",
        "              matches[\"venue\"] == \"M. A. Chidambaram Stadium\",\n",
        "              matches[\"venue\"] == \"Feroz Shah Kotla Ground\", \n",
        "              matches[\"venue\"] == \"M. Chinnaswamy Stadium\",\n",
        "              matches[\"venue\"] == \"Rajiv Gandhi Intl. Cricket Stadium\", \n",
        "              matches[\"venue\"] == \"IS Bindra Stadium\", \n",
        "              matches[\"venue\"] == \"ACA-VDCA Stadium\"]\n",
        "\n",
        "values = ['Hyderabad', 'Mumbai', 'Rajkot', \"Indore\", \"Bengaluru\", \"Mumbai\", \"Kolkata\", \"Delhi\",\n",
        "          \"Mohali\", \"Kanpur\", \"Mohali\", \"Pune\", \"Jaipur\", \"Chennai\", \"Cape Town\", \"Port Elizabeth\",\n",
        "          \"Durban\", \"Centurion\", 'Eastern Cape', 'Johannesburg', 'Northern Cape', 'Bloemfontein',\n",
        "          'Mumbai', 'Ahmedabad', 'Cuttack', 'Jamtha', 'Dharamshala', 'Chennai', 'Visakhapatnam',\n",
        "          'Pune', 'Raipur', 'Ranchi', 'Abu Dhabi', 'Sharjah', 'Dubai', 'Chennai', 'Delhi',\n",
        "          'Bengaluru', 'Hyderabad', 'Mohali', 'Visakhapatnam']\n",
        "\n",
        "matches['city'] = np.where(matches['city'].isnull(), np.select(conditions, values), matches['city'])"
      ],
      "execution_count": 19,
      "outputs": []
    },
    {
      "cell_type": "markdown",
      "metadata": {
        "id": "_7OdmGK346rR"
      },
      "source": [
        "### Removing Records Having Null Values in \"umpire\" Column"
      ]
    },
    {
      "cell_type": "code",
      "metadata": {
        "id": "K2zftEXU44EF"
      },
      "source": [
        "matches = matches[matches['umpire1'].notna()]\n",
        "matches = matches[matches['umpire2'].notna()]"
      ],
      "execution_count": 20,
      "outputs": []
    },
    {
      "cell_type": "markdown",
      "metadata": {
        "id": "hGguArg_EY3h"
      },
      "source": [
        "### Replacing Null Values With 'Draw' in \"winner\" Column"
      ]
    },
    {
      "cell_type": "code",
      "metadata": {
        "id": "lEm4wstXEi6t"
      },
      "source": [
        "matches['winner'].fillna('Draw', inplace = True)"
      ],
      "execution_count": 21,
      "outputs": []
    },
    {
      "cell_type": "markdown",
      "metadata": {
        "id": "gmKVZQOn4_hY"
      },
      "source": [
        "### Replacing 'Rising Pune Supergiant' with 'Rising Pune Supergiants'\n",
        "\n"
      ]
    },
    {
      "cell_type": "code",
      "metadata": {
        "id": "ryMzkeb02i2O"
      },
      "source": [
        "matches[\"team1\"]=matches[\"team1\"].replace(\"Rising Pune Supergiant\", \"Rising Pune Supergiants\")\n",
        "matches[\"team2\"]=matches[\"team2\"].replace(\"Rising Pune Supergiant\", \"Rising Pune Supergiants\")\n",
        "matches[\"winner\"]=matches[\"winner\"].replace(\"Rising Pune Supergiant\", \"Rising Pune Supergiants\")\n",
        "matches[\"toss_winner\"]=matches[\"toss_winner\"].replace(\"Rising Pune Supergiant\", \"Rising Pune Supergiants\")"
      ],
      "execution_count": 22,
      "outputs": []
    },
    {
      "cell_type": "markdown",
      "metadata": {
        "id": "mOwSodk0jIQH"
      },
      "source": [
        "### Replacing 'Delhi Daredevils' with 'Delhi Capitals'"
      ]
    },
    {
      "cell_type": "code",
      "metadata": {
        "id": "cLCCaKKtiyuD"
      },
      "source": [
        "matches[\"team1\"]=matches[\"team1\"].replace(\"Delhi Daredevils\", \"Delhi Capitals\")\n",
        "matches[\"team2\"]=matches[\"team2\"].replace(\"Delhi Daredevils\", \"Delhi Capitals\")\n",
        "matches[\"winner\"]=matches[\"winner\"].replace(\"Delhi Daredevils\", \"Delhi Capitals\")\n",
        "matches[\"toss_winner\"]=matches[\"toss_winner\"].replace(\"Delhi Daredevils\", \"Delhi Capitals\")"
      ],
      "execution_count": 23,
      "outputs": []
    },
    {
      "cell_type": "markdown",
      "metadata": {
        "id": "cITv9HF-DotH"
      },
      "source": [
        "### Replacing 'Deccan Chargers' with 'Sunrisers Hyderabad'"
      ]
    },
    {
      "cell_type": "code",
      "metadata": {
        "id": "TyuxTxUTDpLt"
      },
      "source": [
        "matches[\"team1\"]=matches[\"team1\"].replace(\"Deccan Chargers\", \"Sunrisers Hyderabad\")\n",
        "matches[\"team2\"]=matches[\"team2\"].replace(\"Deccan Chargers\", \"Sunrisers Hyderabad\")\n",
        "matches[\"winner\"]=matches[\"winner\"].replace(\"Deccan Chargers\", \"Sunrisers Hyderabad\")\n",
        "matches[\"toss_winner\"]=matches[\"toss_winner\"].replace(\"Deccan Chargers\", \"Sunrisers Hyderabad\")"
      ],
      "execution_count": 24,
      "outputs": []
    },
    {
      "cell_type": "markdown",
      "metadata": {
        "id": "2VpBzq6mSSnA"
      },
      "source": [
        "### Replacing 'Bangalore' with 'Bengaluru'"
      ]
    },
    {
      "cell_type": "code",
      "metadata": {
        "id": "XJJOjj49cZ8z"
      },
      "source": [
        "matches['city'] = matches['city'].replace(('Bangalore'), ('Bengaluru'))\n",
        "combined['city'] = combined['city'].replace(('Bangalore'), ('Bengaluru'))"
      ],
      "execution_count": 25,
      "outputs": []
    },
    {
      "cell_type": "markdown",
      "metadata": {
        "id": "4mw2st47B-Bv"
      },
      "source": [
        "## All Unique Teams After Cleaning"
      ]
    },
    {
      "cell_type": "code",
      "metadata": {
        "colab": {
          "base_uri": "https://localhost:8080/"
        },
        "id": "nvtvJr3E20Aa",
        "outputId": "bf8b9fa5-972a-4d73-80e8-f9fff69a8098"
      },
      "source": [
        "for i in matches['team1'].unique():\n",
        "  print(i)"
      ],
      "execution_count": 26,
      "outputs": [
        {
          "output_type": "stream",
          "name": "stdout",
          "text": [
            "Sunrisers Hyderabad\n",
            "Mumbai Indians\n",
            "Gujarat Lions\n",
            "Rising Pune Supergiants\n",
            "Kolkata Knight Riders\n",
            "Royal Challengers Bangalore\n",
            "Delhi Capitals\n",
            "Kings XI Punjab\n",
            "Chennai Super Kings\n",
            "Rajasthan Royals\n",
            "Kochi Tuskers Kerala\n",
            "Pune Warriors\n"
          ]
        }
      ]
    },
    {
      "cell_type": "markdown",
      "metadata": {
        "id": "-i5DL7ScCEYP"
      },
      "source": [
        "## All Unique Cities After Cleaning"
      ]
    },
    {
      "cell_type": "code",
      "metadata": {
        "colab": {
          "base_uri": "https://localhost:8080/"
        },
        "id": "pT6SWpCKS_60",
        "outputId": "965085d7-e91a-4474-e030-03a410517122"
      },
      "source": [
        "for i in matches['city'].unique():\n",
        "  print(i)"
      ],
      "execution_count": 27,
      "outputs": [
        {
          "output_type": "stream",
          "name": "stdout",
          "text": [
            "Hyderabad\n",
            "Pune\n",
            "Rajkot\n",
            "Indore\n",
            "Mumbai\n",
            "Kolkata\n",
            "Bengaluru\n",
            "Delhi\n",
            "Chandigarh\n",
            "Kanpur\n",
            "Jaipur\n",
            "Chennai\n",
            "Cape Town\n",
            "Port Elizabeth\n",
            "Durban\n",
            "Centurion\n",
            "East London\n",
            "Johannesburg\n",
            "Kimberley\n",
            "Bloemfontein\n",
            "Ahmedabad\n",
            "Cuttack\n",
            "Nagpur\n",
            "Dharamsala\n",
            "Kochi\n",
            "Visakhapatnam\n",
            "Raipur\n",
            "Ranchi\n",
            "Abu Dhabi\n",
            "Sharjah\n",
            "Dubai\n",
            "Mohali\n"
          ]
        }
      ]
    },
    {
      "cell_type": "markdown",
      "metadata": {
        "id": "G-pDlHn85DTy"
      },
      "source": [
        "## Checking for NaN Values"
      ]
    },
    {
      "cell_type": "code",
      "metadata": {
        "colab": {
          "base_uri": "https://localhost:8080/"
        },
        "id": "zvUj9Z6V4eSz",
        "outputId": "fa29b876-59f9-44af-ce9e-ac7963cb2670"
      },
      "source": [
        "matches.isnull().sum()"
      ],
      "execution_count": 28,
      "outputs": [
        {
          "output_type": "execute_result",
          "data": {
            "text/plain": [
              "id                 0\n",
              "season             0\n",
              "city               0\n",
              "date               0\n",
              "team1              0\n",
              "team2              0\n",
              "toss_winner        0\n",
              "toss_decision      0\n",
              "result             0\n",
              "winner             0\n",
              "win_by_runs        0\n",
              "win_by_wickets     0\n",
              "player_of_match    4\n",
              "venue              0\n",
              "umpire1            0\n",
              "umpire2            0\n",
              "dtype: int64"
            ]
          },
          "metadata": {},
          "execution_count": 28
        }
      ]
    },
    {
      "cell_type": "markdown",
      "metadata": {
        "id": "Jijx2Ki8RMFv"
      },
      "source": [
        "## Total Number of Cities and Venues Associated with IPL Matches"
      ]
    },
    {
      "cell_type": "code",
      "metadata": {
        "colab": {
          "base_uri": "https://localhost:8080/"
        },
        "id": "dsVEL7YwRSYy",
        "outputId": "8a8604f2-f97b-4602-b7b3-2520cf3c9360"
      },
      "source": [
        "print(\"Total number of Teams : \", combined['team1'].nunique())\n",
        "print(\"Total number of Seaons : \", combined['season'].nunique())\n",
        "print(\"Total number of Cities : \", combined['city'].nunique())\n",
        "print(\"Total number of Venues : \", combined['venue'].nunique())"
      ],
      "execution_count": 29,
      "outputs": [
        {
          "output_type": "stream",
          "name": "stdout",
          "text": [
            "Total number of Teams :  15\n",
            "Total number of Seaons :  12\n",
            "Total number of Cities :  31\n",
            "Total number of Venues :  41\n"
          ]
        }
      ]
    },
    {
      "cell_type": "markdown",
      "metadata": {
        "id": "AkwAJH5bxfRg"
      },
      "source": [
        "## Total Matches Played, Cities and Venues Played At and All the Team Names"
      ]
    },
    {
      "cell_type": "code",
      "metadata": {
        "colab": {
          "base_uri": "https://localhost:8080/"
        },
        "id": "ip1BrOMMv940",
        "outputId": "7b63f41d-e8e9-445c-b78c-d4aba27197ef"
      },
      "source": [
        "print(\"Total Matches Played : \", matches.shape[0])\n",
        "print(\"\\nCities played at : \", matches['city'].unique())\n",
        "print(\"\\nVenues played at : \", matches['venue'].unique())\n",
        "print(\"\\nAll teams : \", matches['team1'].unique())\n"
      ],
      "execution_count": 30,
      "outputs": [
        {
          "output_type": "stream",
          "name": "stdout",
          "text": [
            "Total Matches Played :  754\n",
            "\n",
            "Cities played at :  ['Hyderabad' 'Pune' 'Rajkot' 'Indore' 'Mumbai' 'Kolkata' 'Bengaluru'\n",
            " 'Delhi' 'Chandigarh' 'Kanpur' 'Jaipur' 'Chennai' 'Cape Town'\n",
            " 'Port Elizabeth' 'Durban' 'Centurion' 'East London' 'Johannesburg'\n",
            " 'Kimberley' 'Bloemfontein' 'Ahmedabad' 'Cuttack' 'Nagpur' 'Dharamsala'\n",
            " 'Kochi' 'Visakhapatnam' 'Raipur' 'Ranchi' 'Abu Dhabi' 'Sharjah' 'Dubai'\n",
            " 'Mohali']\n",
            "\n",
            "Venues played at :  ['Rajiv Gandhi International Stadium, Uppal'\n",
            " 'Maharashtra Cricket Association Stadium'\n",
            " 'Saurashtra Cricket Association Stadium' 'Holkar Cricket Stadium'\n",
            " 'Wankhede Stadium' 'Eden Gardens' 'M Chinnaswamy Stadium'\n",
            " 'Feroz Shah Kotla' 'Punjab Cricket Association IS Bindra Stadium, Mohali'\n",
            " 'Green Park' 'Punjab Cricket Association Stadium, Mohali'\n",
            " 'Sawai Mansingh Stadium' 'MA Chidambaram Stadium, Chepauk'\n",
            " 'Dr DY Patil Sports Academy' 'Newlands' \"St George's Park\" 'Kingsmead'\n",
            " 'SuperSport Park' 'Buffalo Park' 'New Wanderers Stadium'\n",
            " 'De Beers Diamond Oval' 'OUTsurance Oval' 'Brabourne Stadium'\n",
            " 'Sardar Patel Stadium, Motera' 'Barabati Stadium'\n",
            " 'Vidarbha Cricket Association Stadium, Jamtha'\n",
            " 'Himachal Pradesh Cricket Association Stadium' 'Nehru Stadium'\n",
            " 'Dr. Y.S. Rajasekhara Reddy ACA-VDCA Cricket Stadium'\n",
            " 'Subrata Roy Sahara Stadium'\n",
            " 'Shaheed Veer Narayan Singh International Stadium'\n",
            " 'JSCA International Stadium Complex' 'Sheikh Zayed Stadium'\n",
            " 'Sharjah Cricket Stadium' 'Dubai International Cricket Stadium'\n",
            " 'M. A. Chidambaram Stadium' 'Feroz Shah Kotla Ground'\n",
            " 'M. Chinnaswamy Stadium' 'Rajiv Gandhi Intl. Cricket Stadium'\n",
            " 'IS Bindra Stadium' 'ACA-VDCA Stadium']\n",
            "\n",
            "All teams :  ['Sunrisers Hyderabad' 'Mumbai Indians' 'Gujarat Lions'\n",
            " 'Rising Pune Supergiants' 'Kolkata Knight Riders'\n",
            " 'Royal Challengers Bangalore' 'Delhi Capitals' 'Kings XI Punjab'\n",
            " 'Chennai Super Kings' 'Rajasthan Royals' 'Kochi Tuskers Kerala'\n",
            " 'Pune Warriors']\n"
          ]
        }
      ]
    },
    {
      "cell_type": "markdown",
      "metadata": {
        "id": "9emW35CnOaIC"
      },
      "source": [
        "## Matches Played Across Each Season"
      ]
    },
    {
      "cell_type": "code",
      "metadata": {
        "colab": {
          "base_uri": "https://localhost:8080/",
          "height": 297
        },
        "id": "BLO4iR5tOchM",
        "outputId": "11e350b2-04e8-4ddc-9bea-85ba3e0a88e3"
      },
      "source": [
        "sns.countplot(x=combined['season'])"
      ],
      "execution_count": 31,
      "outputs": [
        {
          "output_type": "execute_result",
          "data": {
            "text/plain": [
              "<matplotlib.axes._subplots.AxesSubplot at 0x7f7800ae44d0>"
            ]
          },
          "metadata": {},
          "execution_count": 31
        },
        {
          "output_type": "display_data",
          "data": {
            "image/png": "[encoded data removed]",
            "text/plain": [
              "<Figure size 432x288 with 1 Axes>"
            ]
          },
          "metadata": {
            "needs_background": "light"
          }
        }
      ]
    },
    {
      "cell_type": "markdown",
      "metadata": {
        "id": "XFWDF5ndl6hi"
      },
      "source": [
        "## Matches Played in Each Stadium by Popularity\n"
      ]
    },
    {
      "cell_type": "code",
      "metadata": {
        "colab": {
          "base_uri": "https://localhost:8080/",
          "height": 472
        },
        "id": "z_7gwdD5mCtL",
        "outputId": "be56ccdc-aecd-47c6-b2ed-3252b29b1c40"
      },
      "source": [
        "plt.figure(figsize=(15, 6))\n",
        "sns.barplot(y = matches['venue'].value_counts().head(20).index,\n",
        "            x = matches['venue'].value_counts().head(20).values,\n",
        "            palette = 'cool')\n",
        "plt.title('Most Popular Venues for IPL Matches \\n', fontsize=25)\n",
        "plt.xlabel('\\nNumber of Matches Played', fontsize=20)\n",
        "plt.show()"
      ],
      "execution_count": 32,
      "outputs": [
        {
          "output_type": "display_data",
          "data": {
            "image/png": "[encoded data removed]",
            "text/plain": [
              "<Figure size 1080x432 with 1 Axes>"
            ]
          },
          "metadata": {
            "needs_background": "light"
          }
        }
      ]
    },
    {
      "cell_type": "markdown",
      "metadata": {
        "id": "pdLzJCjCyxI1"
      },
      "source": [
        "## Most Man of the Match Awards "
      ]
    },
    {
      "cell_type": "code",
      "metadata": {
        "colab": {
          "base_uri": "https://localhost:8080/"
        },
        "id": "NTIoA9pCy5Zp",
        "outputId": "4702606d-1acc-4a13-98f3-69c57255719e"
      },
      "source": [
        "matches['player_of_match'].value_counts()"
      ],
      "execution_count": 33,
      "outputs": [
        {
          "output_type": "execute_result",
          "data": {
            "text/plain": [
              "CH Gayle          21\n",
              "AB de Villiers    20\n",
              "DA Warner         17\n",
              "RG Sharma         17\n",
              "MS Dhoni          17\n",
              "                  ..\n",
              "S Sreesanth        1\n",
              "B Stanlake         1\n",
              "MF Maharoof        1\n",
              "L Ngidi            1\n",
              "RJ Harris          1\n",
              "Name: player_of_match, Length: 226, dtype: int64"
            ]
          },
          "metadata": {},
          "execution_count": 33
        }
      ]
    },
    {
      "cell_type": "markdown",
      "metadata": {
        "id": "bLSXq-_5ciMY"
      },
      "source": [
        "## All the Matches Where 'Chris Gayle' Won the Man of the Match"
      ]
    },
    {
      "cell_type": "code",
      "metadata": {
        "colab": {
          "base_uri": "https://localhost:8080/",
          "height": 701
        },
        "id": "R_LmL8uEcdiT",
        "outputId": "e0821ef1-7856-4f95-d553-396741fe6abe"
      },
      "source": [
        "matches[matches['player_of_match'] == 'CH Gayle'][['date', 'team1', 'team2', 'winner']].reset_index(drop=True)"
      ],
      "execution_count": 34,
      "outputs": [
        {
          "output_type": "execute_result",
          "data": {
            "text/html": [
              "<div>\n",
              "<style scoped>\n",
              "    .dataframe tbody tr th:only-of-type {\n",
              "        vertical-align: middle;\n",
              "    }\n",
              "\n",
              "    .dataframe tbody tr th {\n",
              "        vertical-align: top;\n",
              "    }\n",
              "\n",
              "    .dataframe thead th {\n",
              "        text-align: right;\n",
              "    }\n",
              "</style>\n",
              "<table border=\"1\" class=\"dataframe\">\n",
              "  <thead>\n",
              "    <tr style=\"text-align: right;\">\n",
              "      <th></th>\n",
              "      <th>date</th>\n",
              "      <th>team1</th>\n",
              "      <th>team2</th>\n",
              "      <th>winner</th>\n",
              "    </tr>\n",
              "  </thead>\n",
              "  <tbody>\n",
              "    <tr>\n",
              "      <th>0</th>\n",
              "      <td>2017-04-18</td>\n",
              "      <td>Royal Challengers Bangalore</td>\n",
              "      <td>Gujarat Lions</td>\n",
              "      <td>Royal Challengers Bangalore</td>\n",
              "    </tr>\n",
              "    <tr>\n",
              "      <th>1</th>\n",
              "      <td>2009-04-21</td>\n",
              "      <td>Kings XI Punjab</td>\n",
              "      <td>Kolkata Knight Riders</td>\n",
              "      <td>Kolkata Knight Riders</td>\n",
              "    </tr>\n",
              "    <tr>\n",
              "      <th>2</th>\n",
              "      <td>2011-04-22</td>\n",
              "      <td>Kolkata Knight Riders</td>\n",
              "      <td>Royal Challengers Bangalore</td>\n",
              "      <td>Royal Challengers Bangalore</td>\n",
              "    </tr>\n",
              "    <tr>\n",
              "      <th>3</th>\n",
              "      <td>2011-05-06</td>\n",
              "      <td>Royal Challengers Bangalore</td>\n",
              "      <td>Kings XI Punjab</td>\n",
              "      <td>Royal Challengers Bangalore</td>\n",
              "    </tr>\n",
              "    <tr>\n",
              "      <th>4</th>\n",
              "      <td>2011-05-08</td>\n",
              "      <td>Kochi Tuskers Kerala</td>\n",
              "      <td>Royal Challengers Bangalore</td>\n",
              "      <td>Royal Challengers Bangalore</td>\n",
              "    </tr>\n",
              "    <tr>\n",
              "      <th>5</th>\n",
              "      <td>2011-05-14</td>\n",
              "      <td>Kolkata Knight Riders</td>\n",
              "      <td>Royal Challengers Bangalore</td>\n",
              "      <td>Royal Challengers Bangalore</td>\n",
              "    </tr>\n",
              "    <tr>\n",
              "      <th>6</th>\n",
              "      <td>2011-05-22</td>\n",
              "      <td>Chennai Super Kings</td>\n",
              "      <td>Royal Challengers Bangalore</td>\n",
              "      <td>Royal Challengers Bangalore</td>\n",
              "    </tr>\n",
              "    <tr>\n",
              "      <th>7</th>\n",
              "      <td>2011-05-27</td>\n",
              "      <td>Royal Challengers Bangalore</td>\n",
              "      <td>Mumbai Indians</td>\n",
              "      <td>Royal Challengers Bangalore</td>\n",
              "    </tr>\n",
              "    <tr>\n",
              "      <th>8</th>\n",
              "      <td>2012-04-17</td>\n",
              "      <td>Pune Warriors</td>\n",
              "      <td>Royal Challengers Bangalore</td>\n",
              "      <td>Royal Challengers Bangalore</td>\n",
              "    </tr>\n",
              "    <tr>\n",
              "      <th>9</th>\n",
              "      <td>2012-04-20</td>\n",
              "      <td>Kings XI Punjab</td>\n",
              "      <td>Royal Challengers Bangalore</td>\n",
              "      <td>Royal Challengers Bangalore</td>\n",
              "    </tr>\n",
              "    <tr>\n",
              "      <th>10</th>\n",
              "      <td>2012-05-09</td>\n",
              "      <td>Mumbai Indians</td>\n",
              "      <td>Royal Challengers Bangalore</td>\n",
              "      <td>Royal Challengers Bangalore</td>\n",
              "    </tr>\n",
              "    <tr>\n",
              "      <th>11</th>\n",
              "      <td>2012-05-11</td>\n",
              "      <td>Royal Challengers Bangalore</td>\n",
              "      <td>Pune Warriors</td>\n",
              "      <td>Royal Challengers Bangalore</td>\n",
              "    </tr>\n",
              "    <tr>\n",
              "      <th>12</th>\n",
              "      <td>2012-05-17</td>\n",
              "      <td>Royal Challengers Bangalore</td>\n",
              "      <td>Delhi Capitals</td>\n",
              "      <td>Royal Challengers Bangalore</td>\n",
              "    </tr>\n",
              "    <tr>\n",
              "      <th>13</th>\n",
              "      <td>2013-04-04</td>\n",
              "      <td>Royal Challengers Bangalore</td>\n",
              "      <td>Mumbai Indians</td>\n",
              "      <td>Royal Challengers Bangalore</td>\n",
              "    </tr>\n",
              "    <tr>\n",
              "      <th>14</th>\n",
              "      <td>2013-04-11</td>\n",
              "      <td>Kolkata Knight Riders</td>\n",
              "      <td>Royal Challengers Bangalore</td>\n",
              "      <td>Royal Challengers Bangalore</td>\n",
              "    </tr>\n",
              "    <tr>\n",
              "      <th>15</th>\n",
              "      <td>2013-04-23</td>\n",
              "      <td>Royal Challengers Bangalore</td>\n",
              "      <td>Pune Warriors</td>\n",
              "      <td>Royal Challengers Bangalore</td>\n",
              "    </tr>\n",
              "    <tr>\n",
              "      <th>16</th>\n",
              "      <td>2015-04-11</td>\n",
              "      <td>Kolkata Knight Riders</td>\n",
              "      <td>Royal Challengers Bangalore</td>\n",
              "      <td>Royal Challengers Bangalore</td>\n",
              "    </tr>\n",
              "    <tr>\n",
              "      <th>17</th>\n",
              "      <td>2015-05-06</td>\n",
              "      <td>Royal Challengers Bangalore</td>\n",
              "      <td>Kings XI Punjab</td>\n",
              "      <td>Royal Challengers Bangalore</td>\n",
              "    </tr>\n",
              "    <tr>\n",
              "      <th>18</th>\n",
              "      <td>15/04/18</td>\n",
              "      <td>Kings XI Punjab</td>\n",
              "      <td>Chennai Super Kings</td>\n",
              "      <td>Kings XI Punjab</td>\n",
              "    </tr>\n",
              "    <tr>\n",
              "      <th>19</th>\n",
              "      <td>19/04/18</td>\n",
              "      <td>Kings XI Punjab</td>\n",
              "      <td>Sunrisers Hyderabad</td>\n",
              "      <td>Kings XI Punjab</td>\n",
              "    </tr>\n",
              "    <tr>\n",
              "      <th>20</th>\n",
              "      <td>25/03/19</td>\n",
              "      <td>Kings XI Punjab</td>\n",
              "      <td>Rajasthan Royals</td>\n",
              "      <td>Kings XI Punjab</td>\n",
              "    </tr>\n",
              "  </tbody>\n",
              "</table>\n",
              "</div>"
            ],
            "text/plain": [
              "          date  ...                       winner\n",
              "0   2017-04-18  ...  Royal Challengers Bangalore\n",
              "1   2009-04-21  ...        Kolkata Knight Riders\n",
              "2   2011-04-22  ...  Royal Challengers Bangalore\n",
              "3   2011-05-06  ...  Royal Challengers Bangalore\n",
              "4   2011-05-08  ...  Royal Challengers Bangalore\n",
              "5   2011-05-14  ...  Royal Challengers Bangalore\n",
              "6   2011-05-22  ...  Royal Challengers Bangalore\n",
              "7   2011-05-27  ...  Royal Challengers Bangalore\n",
              "8   2012-04-17  ...  Royal Challengers Bangalore\n",
              "9   2012-04-20  ...  Royal Challengers Bangalore\n",
              "10  2012-05-09  ...  Royal Challengers Bangalore\n",
              "11  2012-05-11  ...  Royal Challengers Bangalore\n",
              "12  2012-05-17  ...  Royal Challengers Bangalore\n",
              "13  2013-04-04  ...  Royal Challengers Bangalore\n",
              "14  2013-04-11  ...  Royal Challengers Bangalore\n",
              "15  2013-04-23  ...  Royal Challengers Bangalore\n",
              "16  2015-04-11  ...  Royal Challengers Bangalore\n",
              "17  2015-05-06  ...  Royal Challengers Bangalore\n",
              "18    15/04/18  ...              Kings XI Punjab\n",
              "19    19/04/18  ...              Kings XI Punjab\n",
              "20    25/03/19  ...              Kings XI Punjab\n",
              "\n",
              "[21 rows x 4 columns]"
            ]
          },
          "metadata": {},
          "execution_count": 34
        }
      ]
    },
    {
      "cell_type": "markdown",
      "metadata": {
        "id": "ps2kRf_TzKzT"
      },
      "source": [
        "## Maximum Win by Runs"
      ]
    },
    {
      "cell_type": "code",
      "metadata": {
        "colab": {
          "base_uri": "https://localhost:8080/",
          "height": 114
        },
        "id": "Fb68R02tzEM0",
        "outputId": "84be9bec-6e4d-4305-f845-542d40c1d89e"
      },
      "source": [
        "matches[matches['win_by_runs'] == matches['win_by_runs'].max()]"
      ],
      "execution_count": 35,
      "outputs": [
        {
          "output_type": "execute_result",
          "data": {
            "text/html": [
              "<div>\n",
              "<style scoped>\n",
              "    .dataframe tbody tr th:only-of-type {\n",
              "        vertical-align: middle;\n",
              "    }\n",
              "\n",
              "    .dataframe tbody tr th {\n",
              "        vertical-align: top;\n",
              "    }\n",
              "\n",
              "    .dataframe thead th {\n",
              "        text-align: right;\n",
              "    }\n",
              "</style>\n",
              "<table border=\"1\" class=\"dataframe\">\n",
              "  <thead>\n",
              "    <tr style=\"text-align: right;\">\n",
              "      <th></th>\n",
              "      <th>id</th>\n",
              "      <th>season</th>\n",
              "      <th>city</th>\n",
              "      <th>date</th>\n",
              "      <th>team1</th>\n",
              "      <th>team2</th>\n",
              "      <th>toss_winner</th>\n",
              "      <th>toss_decision</th>\n",
              "      <th>result</th>\n",
              "      <th>winner</th>\n",
              "      <th>win_by_runs</th>\n",
              "      <th>win_by_wickets</th>\n",
              "      <th>player_of_match</th>\n",
              "      <th>venue</th>\n",
              "      <th>umpire1</th>\n",
              "      <th>umpire2</th>\n",
              "    </tr>\n",
              "  </thead>\n",
              "  <tbody>\n",
              "    <tr>\n",
              "      <th>43</th>\n",
              "      <td>44</td>\n",
              "      <td>2017</td>\n",
              "      <td>Delhi</td>\n",
              "      <td>2017-05-06</td>\n",
              "      <td>Mumbai Indians</td>\n",
              "      <td>Delhi Capitals</td>\n",
              "      <td>Delhi Capitals</td>\n",
              "      <td>field</td>\n",
              "      <td>normal</td>\n",
              "      <td>Mumbai Indians</td>\n",
              "      <td>146</td>\n",
              "      <td>0</td>\n",
              "      <td>LMP Simmons</td>\n",
              "      <td>Feroz Shah Kotla</td>\n",
              "      <td>Nitin Menon</td>\n",
              "      <td>CK Nandan</td>\n",
              "    </tr>\n",
              "  </tbody>\n",
              "</table>\n",
              "</div>"
            ],
            "text/plain": [
              "    id  season   city  ...             venue      umpire1    umpire2\n",
              "43  44    2017  Delhi  ...  Feroz Shah Kotla  Nitin Menon  CK Nandan\n",
              "\n",
              "[1 rows x 16 columns]"
            ]
          },
          "metadata": {},
          "execution_count": 35
        }
      ]
    },
    {
      "cell_type": "markdown",
      "metadata": {
        "id": "5x7PDxB9zinH"
      },
      "source": [
        "## Maximum Win by Wickets"
      ]
    },
    {
      "cell_type": "code",
      "metadata": {
        "colab": {
          "base_uri": "https://localhost:8080/",
          "height": 853
        },
        "id": "C56eYEpHzTk-",
        "outputId": "43225465-6be5-4a17-d749-ab802e1c554c"
      },
      "source": [
        "matches[matches['win_by_wickets'] == matches['win_by_wickets'].max()]"
      ],
      "execution_count": 36,
      "outputs": [
        {
          "output_type": "execute_result",
          "data": {
            "text/html": [
              "<div>\n",
              "<style scoped>\n",
              "    .dataframe tbody tr th:only-of-type {\n",
              "        vertical-align: middle;\n",
              "    }\n",
              "\n",
              "    .dataframe tbody tr th {\n",
              "        vertical-align: top;\n",
              "    }\n",
              "\n",
              "    .dataframe thead th {\n",
              "        text-align: right;\n",
              "    }\n",
              "</style>\n",
              "<table border=\"1\" class=\"dataframe\">\n",
              "  <thead>\n",
              "    <tr style=\"text-align: right;\">\n",
              "      <th></th>\n",
              "      <th>id</th>\n",
              "      <th>season</th>\n",
              "      <th>city</th>\n",
              "      <th>date</th>\n",
              "      <th>team1</th>\n",
              "      <th>team2</th>\n",
              "      <th>toss_winner</th>\n",
              "      <th>toss_decision</th>\n",
              "      <th>result</th>\n",
              "      <th>winner</th>\n",
              "      <th>win_by_runs</th>\n",
              "      <th>win_by_wickets</th>\n",
              "      <th>player_of_match</th>\n",
              "      <th>venue</th>\n",
              "      <th>umpire1</th>\n",
              "      <th>umpire2</th>\n",
              "    </tr>\n",
              "  </thead>\n",
              "  <tbody>\n",
              "    <tr>\n",
              "      <th>2</th>\n",
              "      <td>3</td>\n",
              "      <td>2017</td>\n",
              "      <td>Rajkot</td>\n",
              "      <td>2017-04-07</td>\n",
              "      <td>Gujarat Lions</td>\n",
              "      <td>Kolkata Knight Riders</td>\n",
              "      <td>Kolkata Knight Riders</td>\n",
              "      <td>field</td>\n",
              "      <td>normal</td>\n",
              "      <td>Kolkata Knight Riders</td>\n",
              "      <td>0</td>\n",
              "      <td>10</td>\n",
              "      <td>CA Lynn</td>\n",
              "      <td>Saurashtra Cricket Association Stadium</td>\n",
              "      <td>Nitin Menon</td>\n",
              "      <td>CK Nandan</td>\n",
              "    </tr>\n",
              "    <tr>\n",
              "      <th>34</th>\n",
              "      <td>35</td>\n",
              "      <td>2017</td>\n",
              "      <td>Chandigarh</td>\n",
              "      <td>2017-04-30</td>\n",
              "      <td>Delhi Capitals</td>\n",
              "      <td>Kings XI Punjab</td>\n",
              "      <td>Kings XI Punjab</td>\n",
              "      <td>field</td>\n",
              "      <td>normal</td>\n",
              "      <td>Kings XI Punjab</td>\n",
              "      <td>0</td>\n",
              "      <td>10</td>\n",
              "      <td>Sandeep Sharma</td>\n",
              "      <td>Punjab Cricket Association IS Bindra Stadium, ...</td>\n",
              "      <td>YC Barde</td>\n",
              "      <td>CK Nandan</td>\n",
              "    </tr>\n",
              "    <tr>\n",
              "      <th>71</th>\n",
              "      <td>72</td>\n",
              "      <td>2008</td>\n",
              "      <td>Mumbai</td>\n",
              "      <td>2008-04-27</td>\n",
              "      <td>Mumbai Indians</td>\n",
              "      <td>Sunrisers Hyderabad</td>\n",
              "      <td>Sunrisers Hyderabad</td>\n",
              "      <td>field</td>\n",
              "      <td>normal</td>\n",
              "      <td>Sunrisers Hyderabad</td>\n",
              "      <td>0</td>\n",
              "      <td>10</td>\n",
              "      <td>AC Gilchrist</td>\n",
              "      <td>Dr DY Patil Sports Academy</td>\n",
              "      <td>Asad Rauf</td>\n",
              "      <td>SL Shastri</td>\n",
              "    </tr>\n",
              "    <tr>\n",
              "      <th>119</th>\n",
              "      <td>120</td>\n",
              "      <td>2009</td>\n",
              "      <td>Cape Town</td>\n",
              "      <td>2009-04-19</td>\n",
              "      <td>Kings XI Punjab</td>\n",
              "      <td>Delhi Capitals</td>\n",
              "      <td>Delhi Capitals</td>\n",
              "      <td>field</td>\n",
              "      <td>normal</td>\n",
              "      <td>Delhi Capitals</td>\n",
              "      <td>0</td>\n",
              "      <td>10</td>\n",
              "      <td>DL Vettori</td>\n",
              "      <td>Newlands</td>\n",
              "      <td>MR Benson</td>\n",
              "      <td>SD Ranade</td>\n",
              "    </tr>\n",
              "    <tr>\n",
              "      <th>183</th>\n",
              "      <td>184</td>\n",
              "      <td>2010</td>\n",
              "      <td>Bengaluru</td>\n",
              "      <td>2010-03-18</td>\n",
              "      <td>Rajasthan Royals</td>\n",
              "      <td>Royal Challengers Bangalore</td>\n",
              "      <td>Royal Challengers Bangalore</td>\n",
              "      <td>field</td>\n",
              "      <td>normal</td>\n",
              "      <td>Royal Challengers Bangalore</td>\n",
              "      <td>0</td>\n",
              "      <td>10</td>\n",
              "      <td>JH Kallis</td>\n",
              "      <td>M Chinnaswamy Stadium</td>\n",
              "      <td>K Hariharan</td>\n",
              "      <td>DJ Harper</td>\n",
              "    </tr>\n",
              "    <tr>\n",
              "      <th>298</th>\n",
              "      <td>299</td>\n",
              "      <td>2011</td>\n",
              "      <td>Mumbai</td>\n",
              "      <td>2011-05-20</td>\n",
              "      <td>Mumbai Indians</td>\n",
              "      <td>Rajasthan Royals</td>\n",
              "      <td>Mumbai Indians</td>\n",
              "      <td>bat</td>\n",
              "      <td>normal</td>\n",
              "      <td>Rajasthan Royals</td>\n",
              "      <td>0</td>\n",
              "      <td>10</td>\n",
              "      <td>SR Watson</td>\n",
              "      <td>Wankhede Stadium</td>\n",
              "      <td>RE Koertzen</td>\n",
              "      <td>PR Reiffel</td>\n",
              "    </tr>\n",
              "    <tr>\n",
              "      <th>376</th>\n",
              "      <td>377</td>\n",
              "      <td>2012</td>\n",
              "      <td>Jaipur</td>\n",
              "      <td>2012-05-20</td>\n",
              "      <td>Rajasthan Royals</td>\n",
              "      <td>Mumbai Indians</td>\n",
              "      <td>Rajasthan Royals</td>\n",
              "      <td>bat</td>\n",
              "      <td>normal</td>\n",
              "      <td>Mumbai Indians</td>\n",
              "      <td>0</td>\n",
              "      <td>10</td>\n",
              "      <td>DR Smith</td>\n",
              "      <td>Sawai Mansingh Stadium</td>\n",
              "      <td>HDPK Dharmasena</td>\n",
              "      <td>C Shamshuddin</td>\n",
              "    </tr>\n",
              "    <tr>\n",
              "      <th>390</th>\n",
              "      <td>391</td>\n",
              "      <td>2013</td>\n",
              "      <td>Chandigarh</td>\n",
              "      <td>2013-04-10</td>\n",
              "      <td>Kings XI Punjab</td>\n",
              "      <td>Chennai Super Kings</td>\n",
              "      <td>Chennai Super Kings</td>\n",
              "      <td>field</td>\n",
              "      <td>normal</td>\n",
              "      <td>Chennai Super Kings</td>\n",
              "      <td>0</td>\n",
              "      <td>10</td>\n",
              "      <td>MEK Hussey</td>\n",
              "      <td>Punjab Cricket Association Stadium, Mohali</td>\n",
              "      <td>Aleem Dar</td>\n",
              "      <td>C Shamshuddin</td>\n",
              "    </tr>\n",
              "    <tr>\n",
              "      <th>542</th>\n",
              "      <td>543</td>\n",
              "      <td>2015</td>\n",
              "      <td>Delhi</td>\n",
              "      <td>2015-04-26</td>\n",
              "      <td>Delhi Capitals</td>\n",
              "      <td>Royal Challengers Bangalore</td>\n",
              "      <td>Royal Challengers Bangalore</td>\n",
              "      <td>field</td>\n",
              "      <td>normal</td>\n",
              "      <td>Royal Challengers Bangalore</td>\n",
              "      <td>0</td>\n",
              "      <td>10</td>\n",
              "      <td>VR Aaron</td>\n",
              "      <td>Feroz Shah Kotla</td>\n",
              "      <td>M Erasmus</td>\n",
              "      <td>S Ravi</td>\n",
              "    </tr>\n",
              "    <tr>\n",
              "      <th>590</th>\n",
              "      <td>591</td>\n",
              "      <td>2016</td>\n",
              "      <td>Rajkot</td>\n",
              "      <td>2016-04-21</td>\n",
              "      <td>Gujarat Lions</td>\n",
              "      <td>Sunrisers Hyderabad</td>\n",
              "      <td>Sunrisers Hyderabad</td>\n",
              "      <td>field</td>\n",
              "      <td>normal</td>\n",
              "      <td>Sunrisers Hyderabad</td>\n",
              "      <td>0</td>\n",
              "      <td>10</td>\n",
              "      <td>B Kumar</td>\n",
              "      <td>Saurashtra Cricket Association Stadium</td>\n",
              "      <td>K Bharatan</td>\n",
              "      <td>HDPK Dharmasena</td>\n",
              "    </tr>\n",
              "    <tr>\n",
              "      <th>683</th>\n",
              "      <td>7941</td>\n",
              "      <td>2018</td>\n",
              "      <td>Indore</td>\n",
              "      <td>14/05/18</td>\n",
              "      <td>Kings XI Punjab</td>\n",
              "      <td>Royal Challengers Bangalore</td>\n",
              "      <td>Royal Challengers Bangalore</td>\n",
              "      <td>field</td>\n",
              "      <td>normal</td>\n",
              "      <td>Royal Challengers Bangalore</td>\n",
              "      <td>0</td>\n",
              "      <td>10</td>\n",
              "      <td>UT Yadav</td>\n",
              "      <td>Holkar Cricket Stadium</td>\n",
              "      <td>Bruce Oxenford</td>\n",
              "      <td>Virender Kumar Sharma</td>\n",
              "    </tr>\n",
              "  </tbody>\n",
              "</table>\n",
              "</div>"
            ],
            "text/plain": [
              "       id  season  ...          umpire1                umpire2\n",
              "2       3    2017  ...      Nitin Menon              CK Nandan\n",
              "34     35    2017  ...         YC Barde              CK Nandan\n",
              "71     72    2008  ...        Asad Rauf             SL Shastri\n",
              "119   120    2009  ...        MR Benson              SD Ranade\n",
              "183   184    2010  ...      K Hariharan              DJ Harper\n",
              "298   299    2011  ...      RE Koertzen             PR Reiffel\n",
              "376   377    2012  ...  HDPK Dharmasena          C Shamshuddin\n",
              "390   391    2013  ...        Aleem Dar          C Shamshuddin\n",
              "542   543    2015  ...        M Erasmus                 S Ravi\n",
              "590   591    2016  ...       K Bharatan        HDPK Dharmasena\n",
              "683  7941    2018  ...   Bruce Oxenford  Virender Kumar Sharma\n",
              "\n",
              "[11 rows x 16 columns]"
            ]
          },
          "metadata": {},
          "execution_count": 36
        }
      ]
    },
    {
      "cell_type": "markdown",
      "metadata": {
        "id": "Fk8Ol2wafNaI"
      },
      "source": [
        "## Perfomance of the Top 3 Teams Having a Huge Fan Following "
      ]
    },
    {
      "cell_type": "code",
      "metadata": {
        "colab": {
          "base_uri": "https://localhost:8080/",
          "height": 141
        },
        "id": "3wb2mxKyfn5B",
        "outputId": "7f16f159-cc63-42cd-ec4b-558ceee27fc8"
      },
      "source": [
        "MI = matches[(matches['team1'] == 'Mumbai Indians') | (matches['team2'] == 'Mumbai Indians')]\n",
        "CSK = matches[(matches['team1'] == 'Chennai Super Kings') | (matches['team2'] == 'Chennai Super Kings')]\n",
        "RCB = matches[(matches['team1'] == 'Royal Challengers Bangalore') | (matches['team2'] == 'Royal Challengers Bangalore')]\n",
        "\n",
        "data = MI.append(CSK)\n",
        "data = data.append(RCB)\n",
        "data = data[(data['winner'] == 'Mumbai Indians') | (data['winner'] == 'Chennai Super Kings') | (data['winner'] == 'Royal Challengers Bangalore')]\n",
        "\n",
        "data[['season',  \n",
        "      'winner', \n",
        "      'win_by_runs', \n",
        "      'win_by_wickets', \n",
        "      'player_of_match']].groupby(['winner']).agg(['min', \n",
        "                                                   'max', \n",
        "                                                   'sum', \n",
        "                                                   'mean']).style.background_gradient(cmap='inferno')"
      ],
      "execution_count": 37,
      "outputs": [
        {
          "output_type": "execute_result",
          "data": {
            "text/html": [
              "<style  type=\"text/css\" >\n",
              "#T_efc31cf6_0f0f_11ec_a3dd_0242ac1c0002row0_col0,#T_efc31cf6_0f0f_11ec_a3dd_0242ac1c0002row0_col1,#T_efc31cf6_0f0f_11ec_a3dd_0242ac1c0002row0_col4,#T_efc31cf6_0f0f_11ec_a3dd_0242ac1c0002row0_col5,#T_efc31cf6_0f0f_11ec_a3dd_0242ac1c0002row0_col8,#T_efc31cf6_0f0f_11ec_a3dd_0242ac1c0002row0_col9,#T_efc31cf6_0f0f_11ec_a3dd_0242ac1c0002row0_col10,#T_efc31cf6_0f0f_11ec_a3dd_0242ac1c0002row1_col0,#T_efc31cf6_0f0f_11ec_a3dd_0242ac1c0002row1_col1,#T_efc31cf6_0f0f_11ec_a3dd_0242ac1c0002row1_col4,#T_efc31cf6_0f0f_11ec_a3dd_0242ac1c0002row1_col8,#T_efc31cf6_0f0f_11ec_a3dd_0242ac1c0002row1_col9,#T_efc31cf6_0f0f_11ec_a3dd_0242ac1c0002row1_col11,#T_efc31cf6_0f0f_11ec_a3dd_0242ac1c0002row2_col0,#T_efc31cf6_0f0f_11ec_a3dd_0242ac1c0002row2_col1,#T_efc31cf6_0f0f_11ec_a3dd_0242ac1c0002row2_col2,#T_efc31cf6_0f0f_11ec_a3dd_0242ac1c0002row2_col3,#T_efc31cf6_0f0f_11ec_a3dd_0242ac1c0002row2_col4,#T_efc31cf6_0f0f_11ec_a3dd_0242ac1c0002row2_col6,#T_efc31cf6_0f0f_11ec_a3dd_0242ac1c0002row2_col7,#T_efc31cf6_0f0f_11ec_a3dd_0242ac1c0002row2_col8,#T_efc31cf6_0f0f_11ec_a3dd_0242ac1c0002row2_col9{\n",
              "            background-color:  #000004;\n",
              "            color:  #f1f1f1;\n",
              "        }#T_efc31cf6_0f0f_11ec_a3dd_0242ac1c0002row0_col2{\n",
              "            background-color:  #e25734;\n",
              "            color:  #000000;\n",
              "        }#T_efc31cf6_0f0f_11ec_a3dd_0242ac1c0002row0_col3{\n",
              "            background-color:  #380962;\n",
              "            color:  #f1f1f1;\n",
              "        }#T_efc31cf6_0f0f_11ec_a3dd_0242ac1c0002row0_col6{\n",
              "            background-color:  #fa9008;\n",
              "            color:  #000000;\n",
              "        }#T_efc31cf6_0f0f_11ec_a3dd_0242ac1c0002row0_col7,#T_efc31cf6_0f0f_11ec_a3dd_0242ac1c0002row1_col2,#T_efc31cf6_0f0f_11ec_a3dd_0242ac1c0002row1_col3,#T_efc31cf6_0f0f_11ec_a3dd_0242ac1c0002row1_col5,#T_efc31cf6_0f0f_11ec_a3dd_0242ac1c0002row1_col6,#T_efc31cf6_0f0f_11ec_a3dd_0242ac1c0002row1_col10,#T_efc31cf6_0f0f_11ec_a3dd_0242ac1c0002row2_col11{\n",
              "            background-color:  #fcffa4;\n",
              "            color:  #000000;\n",
              "        }#T_efc31cf6_0f0f_11ec_a3dd_0242ac1c0002row0_col11{\n",
              "            background-color:  #230c4c;\n",
              "            color:  #f1f1f1;\n",
              "        }#T_efc31cf6_0f0f_11ec_a3dd_0242ac1c0002row1_col7{\n",
              "            background-color:  #f4e156;\n",
              "            color:  #000000;\n",
              "        }#T_efc31cf6_0f0f_11ec_a3dd_0242ac1c0002row2_col5{\n",
              "            background-color:  #f2f27d;\n",
              "            color:  #000000;\n",
              "        }#T_efc31cf6_0f0f_11ec_a3dd_0242ac1c0002row2_col10{\n",
              "            background-color:  #0c0826;\n",
              "            color:  #f1f1f1;\n",
              "        }</style><table id=\"T_efc31cf6_0f0f_11ec_a3dd_0242ac1c0002\" ><thead>    <tr>        <th class=\"blank level0\" ></th>        <th class=\"col_heading level0 col0\" colspan=4>season</th>        <th class=\"col_heading level0 col4\" colspan=4>win_by_runs</th>        <th class=\"col_heading level0 col8\" colspan=4>win_by_wickets</th>    </tr>    <tr>        <th class=\"blank level1\" ></th>        <th class=\"col_heading level1 col0\" >min</th>        <th class=\"col_heading level1 col1\" >max</th>        <th class=\"col_heading level1 col2\" >sum</th>        <th class=\"col_heading level1 col3\" >mean</th>        <th class=\"col_heading level1 col4\" >min</th>        <th class=\"col_heading level1 col5\" >max</th>        <th class=\"col_heading level1 col6\" >sum</th>        <th class=\"col_heading level1 col7\" >mean</th>        <th class=\"col_heading level1 col8\" >min</th>        <th class=\"col_heading level1 col9\" >max</th>        <th class=\"col_heading level1 col10\" >sum</th>        <th class=\"col_heading level1 col11\" >mean</th>    </tr>    <tr>        <th class=\"index_name level0\" >winner</th>        <th class=\"blank\" ></th>        <th class=\"blank\" ></th>        <th class=\"blank\" ></th>        <th class=\"blank\" ></th>        <th class=\"blank\" ></th>        <th class=\"blank\" ></th>        <th class=\"blank\" ></th>        <th class=\"blank\" ></th>        <th class=\"blank\" ></th>        <th class=\"blank\" ></th>        <th class=\"blank\" ></th>        <th class=\"blank\" ></th>    </tr></thead><tbody>\n",
              "                <tr>\n",
              "                        <th id=\"T_efc31cf6_0f0f_11ec_a3dd_0242ac1c0002level0_row0\" class=\"row_heading level0 row0\" >Chennai Super Kings</th>\n",
              "                        <td id=\"T_efc31cf6_0f0f_11ec_a3dd_0242ac1c0002row0_col0\" class=\"data row0 col0\" >2008</td>\n",
              "                        <td id=\"T_efc31cf6_0f0f_11ec_a3dd_0242ac1c0002row0_col1\" class=\"data row0 col1\" >2019</td>\n",
              "                        <td id=\"T_efc31cf6_0f0f_11ec_a3dd_0242ac1c0002row0_col2\" class=\"data row0 col2\" >253645</td>\n",
              "                        <td id=\"T_efc31cf6_0f0f_11ec_a3dd_0242ac1c0002row0_col3\" class=\"data row0 col3\" >2013.055556</td>\n",
              "                        <td id=\"T_efc31cf6_0f0f_11ec_a3dd_0242ac1c0002row0_col4\" class=\"data row0 col4\" >0</td>\n",
              "                        <td id=\"T_efc31cf6_0f0f_11ec_a3dd_0242ac1c0002row0_col5\" class=\"data row0 col5\" >97</td>\n",
              "                        <td id=\"T_efc31cf6_0f0f_11ec_a3dd_0242ac1c0002row0_col6\" class=\"data row0 col6\" >2151</td>\n",
              "                        <td id=\"T_efc31cf6_0f0f_11ec_a3dd_0242ac1c0002row0_col7\" class=\"data row0 col7\" >17.071429</td>\n",
              "                        <td id=\"T_efc31cf6_0f0f_11ec_a3dd_0242ac1c0002row0_col8\" class=\"data row0 col8\" >0</td>\n",
              "                        <td id=\"T_efc31cf6_0f0f_11ec_a3dd_0242ac1c0002row0_col9\" class=\"data row0 col9\" >10</td>\n",
              "                        <td id=\"T_efc31cf6_0f0f_11ec_a3dd_0242ac1c0002row0_col10\" class=\"data row0 col10\" >370</td>\n",
              "                        <td id=\"T_efc31cf6_0f0f_11ec_a3dd_0242ac1c0002row0_col11\" class=\"data row0 col11\" >2.936508</td>\n",
              "            </tr>\n",
              "            <tr>\n",
              "                        <th id=\"T_efc31cf6_0f0f_11ec_a3dd_0242ac1c0002level0_row1\" class=\"row_heading level0 row1\" >Mumbai Indians</th>\n",
              "                        <td id=\"T_efc31cf6_0f0f_11ec_a3dd_0242ac1c0002row1_col0\" class=\"data row1 col0\" >2008</td>\n",
              "                        <td id=\"T_efc31cf6_0f0f_11ec_a3dd_0242ac1c0002row1_col1\" class=\"data row1 col1\" >2019</td>\n",
              "                        <td id=\"T_efc31cf6_0f0f_11ec_a3dd_0242ac1c0002row1_col2\" class=\"data row1 col2\" >285955</td>\n",
              "                        <td id=\"T_efc31cf6_0f0f_11ec_a3dd_0242ac1c0002row1_col3\" class=\"data row1 col3\" >2013.767606</td>\n",
              "                        <td id=\"T_efc31cf6_0f0f_11ec_a3dd_0242ac1c0002row1_col4\" class=\"data row1 col4\" >0</td>\n",
              "                        <td id=\"T_efc31cf6_0f0f_11ec_a3dd_0242ac1c0002row1_col5\" class=\"data row1 col5\" >146</td>\n",
              "                        <td id=\"T_efc31cf6_0f0f_11ec_a3dd_0242ac1c0002row1_col6\" class=\"data row1 col6\" >2390</td>\n",
              "                        <td id=\"T_efc31cf6_0f0f_11ec_a3dd_0242ac1c0002row1_col7\" class=\"data row1 col7\" >16.830986</td>\n",
              "                        <td id=\"T_efc31cf6_0f0f_11ec_a3dd_0242ac1c0002row1_col8\" class=\"data row1 col8\" >0</td>\n",
              "                        <td id=\"T_efc31cf6_0f0f_11ec_a3dd_0242ac1c0002row1_col9\" class=\"data row1 col9\" >10</td>\n",
              "                        <td id=\"T_efc31cf6_0f0f_11ec_a3dd_0242ac1c0002row1_col10\" class=\"data row1 col10\" >400</td>\n",
              "                        <td id=\"T_efc31cf6_0f0f_11ec_a3dd_0242ac1c0002row1_col11\" class=\"data row1 col11\" >2.816901</td>\n",
              "            </tr>\n",
              "            <tr>\n",
              "                        <th id=\"T_efc31cf6_0f0f_11ec_a3dd_0242ac1c0002level0_row2\" class=\"row_heading level0 row2\" >Royal Challengers Bangalore</th>\n",
              "                        <td id=\"T_efc31cf6_0f0f_11ec_a3dd_0242ac1c0002row2_col0\" class=\"data row2 col0\" >2008</td>\n",
              "                        <td id=\"T_efc31cf6_0f0f_11ec_a3dd_0242ac1c0002row2_col1\" class=\"data row2 col1\" >2019</td>\n",
              "                        <td id=\"T_efc31cf6_0f0f_11ec_a3dd_0242ac1c0002row2_col2\" class=\"data row2 col2\" >201290</td>\n",
              "                        <td id=\"T_efc31cf6_0f0f_11ec_a3dd_0242ac1c0002row2_col3\" class=\"data row2 col3\" >2012.900000</td>\n",
              "                        <td id=\"T_efc31cf6_0f0f_11ec_a3dd_0242ac1c0002row2_col4\" class=\"data row2 col4\" >0</td>\n",
              "                        <td id=\"T_efc31cf6_0f0f_11ec_a3dd_0242ac1c0002row2_col5\" class=\"data row2 col5\" >144</td>\n",
              "                        <td id=\"T_efc31cf6_0f0f_11ec_a3dd_0242ac1c0002row2_col6\" class=\"data row2 col6\" >1410</td>\n",
              "                        <td id=\"T_efc31cf6_0f0f_11ec_a3dd_0242ac1c0002row2_col7\" class=\"data row2 col7\" >14.100000</td>\n",
              "                        <td id=\"T_efc31cf6_0f0f_11ec_a3dd_0242ac1c0002row2_col8\" class=\"data row2 col8\" >0</td>\n",
              "                        <td id=\"T_efc31cf6_0f0f_11ec_a3dd_0242ac1c0002row2_col9\" class=\"data row2 col9\" >10</td>\n",
              "                        <td id=\"T_efc31cf6_0f0f_11ec_a3dd_0242ac1c0002row2_col10\" class=\"data row2 col10\" >372</td>\n",
              "                        <td id=\"T_efc31cf6_0f0f_11ec_a3dd_0242ac1c0002row2_col11\" class=\"data row2 col11\" >3.720000</td>\n",
              "            </tr>\n",
              "    </tbody></table>"
            ],
            "text/plain": [
              "<pandas.io.formats.style.Styler at 0x7f77f26a8510>"
            ]
          },
          "metadata": {},
          "execution_count": 37
        }
      ]
    },
    {
      "cell_type": "markdown",
      "metadata": {
        "id": "K2hX_Trqw9QO"
      },
      "source": [
        "## Probability of a Team to Win if they Choose to Field or Bat"
      ]
    },
    {
      "cell_type": "code",
      "metadata": {
        "colab": {
          "base_uri": "https://localhost:8080/"
        },
        "id": "r--_0q41xG45",
        "outputId": "1a1242da-f9f6-4c1f-fce9-6cb68b39cd68"
      },
      "source": [
        "matches['toss_decision'].value_counts()"
      ],
      "execution_count": 38,
      "outputs": [
        {
          "output_type": "execute_result",
          "data": {
            "text/plain": [
              "field    462\n",
              "bat      292\n",
              "Name: toss_decision, dtype: int64"
            ]
          },
          "metadata": {},
          "execution_count": 38
        }
      ]
    },
    {
      "cell_type": "code",
      "metadata": {
        "colab": {
          "base_uri": "https://localhost:8080/"
        },
        "id": "hiS6DtFGxOZW",
        "outputId": "d649b75c-b78f-4153-bcc4-12a97e3e04e4"
      },
      "source": [
        "field = matches[matches['toss_decision'] == 'field']\n",
        "bat = matches[matches['toss_decision'] == 'bat']\n",
        "\n",
        "print(\"Chances of winning the match when toss decision is 'field' : \", round(field.shape[0]/matches.shape[0],2)*100)\n",
        "print(\"Chances of winning the match when toss decision is 'bat' : \", round(bat.shape[0]/matches.shape[0],2)*100)"
      ],
      "execution_count": 39,
      "outputs": [
        {
          "output_type": "stream",
          "name": "stdout",
          "text": [
            "Chances of winning the match when toss decision is 'field' :  61.0\n",
            "Chances of winning the match when toss decision is 'bat' :  39.0\n"
          ]
        }
      ]
    },
    {
      "cell_type": "markdown",
      "metadata": {
        "id": "6T5MYkqjBVfD"
      },
      "source": [
        "## Records Where a Team Won After Batting First"
      ]
    },
    {
      "cell_type": "code",
      "metadata": {
        "colab": {
          "base_uri": "https://localhost:8080/",
          "height": 575
        },
        "id": "iUfls9n4Bi1L",
        "outputId": "04141846-85ab-495f-9b8e-653c130429cc"
      },
      "source": [
        "batting_first = matches[matches['win_by_runs'] != 0]\n",
        "\n",
        "plt.figure(figsize=(10,10))\n",
        "plt.pie(list(batting_first['winner'].value_counts()), labels=list(batting_first['winner'].value_counts().keys()), autopct='%0.1f%%')\n",
        "plt.show()"
      ],
      "execution_count": 40,
      "outputs": [
        {
          "output_type": "display_data",
          "data": {
            "image/png": "[encoded data removed]",
            "text/plain": [
              "<Figure size 720x720 with 1 Axes>"
            ]
          },
          "metadata": {}
        }
      ]
    },
    {
      "cell_type": "markdown",
      "metadata": {
        "id": "Nr-cB9jWB-5I"
      },
      "source": [
        "## Records Where a Team Won After Batting Second"
      ]
    },
    {
      "cell_type": "code",
      "metadata": {
        "colab": {
          "base_uri": "https://localhost:8080/",
          "height": 575
        },
        "id": "vaxD3vnwB7FV",
        "outputId": "3d52698f-4e91-4812-a0e2-53672806a73a"
      },
      "source": [
        "batting_second=matches[matches['win_by_wickets'] != 0]\n",
        "\n",
        "plt.figure(figsize=(10,10))\n",
        "plt.pie(list(batting_second['winner'].value_counts()), labels=list(batting_second['winner'].value_counts().keys()), autopct='%0.1f%%')\n",
        "plt.show()"
      ],
      "execution_count": 41,
      "outputs": [
        {
          "output_type": "display_data",
          "data": {
            "image/png": "[encoded data removed]",
            "text/plain": [
              "<Figure size 720x720 with 1 Axes>"
            ]
          },
          "metadata": {}
        }
      ]
    },
    {
      "cell_type": "markdown",
      "metadata": {
        "id": "VYOt-kRq5xVS"
      },
      "source": [
        "## Maximum Toss Winners"
      ]
    },
    {
      "cell_type": "code",
      "metadata": {
        "colab": {
          "base_uri": "https://localhost:8080/",
          "height": 417
        },
        "id": "bijtEJYz513X",
        "outputId": "52061ca8-0f2c-4efa-99f0-7b8dd08d70f9"
      },
      "source": [
        "matches['toss_winner'].value_counts().plot(kind='bar')"
      ],
      "execution_count": 42,
      "outputs": [
        {
          "output_type": "execute_result",
          "data": {
            "text/plain": [
              "<matplotlib.axes._subplots.AxesSubplot at 0x7f77f1040b10>"
            ]
          },
          "metadata": {},
          "execution_count": 42
        },
        {
          "output_type": "display_data",
          "data": {
            "image/png": "[encoded data removed]",
            "text/plain": [
              "<Figure size 432x288 with 1 Axes>"
            ]
          },
          "metadata": {
            "needs_background": "light"
          }
        }
      ]
    },
    {
      "cell_type": "markdown",
      "metadata": {
        "id": "qtN4At7Pyoyl"
      },
      "source": [
        "## Decision after toss across seasons"
      ]
    },
    {
      "cell_type": "code",
      "metadata": {
        "colab": {
          "base_uri": "https://localhost:8080/",
          "height": 395
        },
        "id": "xFRFOcjsyv23",
        "outputId": "38d4f95a-b140-4852-955a-fda9d918e2df"
      },
      "source": [
        "plt.figure(figsize=(15, 6))\n",
        "sns.countplot(matches['season'].sort_values(), hue=matches['toss_decision'], palette='PuBu')\n",
        "plt.title('Decision to field or bat across seasons', fontsize=20)\n",
        "plt.xlabel(\"\")\n",
        "plt.ylabel(\"\")\n",
        "plt.show()"
      ],
      "execution_count": 43,
      "outputs": [
        {
          "output_type": "display_data",
          "data": {
            "image/png": "[encoded data removed]",
            "text/plain": [
              "<Figure size 1080x432 with 1 Axes>"
            ]
          },
          "metadata": {
            "needs_background": "light"
          }
        }
      ]
    },
    {
      "cell_type": "markdown",
      "metadata": {
        "id": "UMZxGz7O0Ag4"
      },
      "source": [
        "## Decision of each IPL Team after Winning the Toss"
      ]
    },
    {
      "cell_type": "code",
      "metadata": {
        "colab": {
          "base_uri": "https://localhost:8080/",
          "height": 102,
          "referenced_widgets": [
            "188eea0e0dfe45b0b82326555f5afce1",
            "0a720a8dd1df47de82d494557ac52136",
            "f22a59636a2e4e73897475425ef8cc18",
            "7cd9249742834c36b8754cd3fbe1a6f3",
            "5b320f59a68c4b19a1d59ca344c0143a",
            "8d68109215de43c5a3c65bebfa2ba2f0",
            "83bde62b029b41e4a85165374f000b06"
          ]
        },
        "id": "zT1FV0BS0IQh",
        "outputId": "4f8ed095-0490-4f10-8bb9-6db9d4e6f820"
      },
      "source": [
        "@interact\n",
        "def toss_decision(team = list(matches['toss_winner'].value_counts().index)):\n",
        "  x = matches[matches['toss_winner'] == team]\n",
        "  return x['toss_decision'].value_counts()"
      ],
      "execution_count": 44,
      "outputs": [
        {
          "output_type": "display_data",
          "data": {
            "application/vnd.jupyter.widget-view+json": {
              "model_id": "188eea0e0dfe45b0b82326555f5afce1",
              "version_minor": 0,
              "version_major": 2
            },
            "text/plain": [
              "interactive(children=(Dropdown(description='team', options=('Mumbai Indians', 'Kolkata Knight Riders', 'Delhi …"
            ]
          },
          "metadata": {}
        }
      ]
    },
    {
      "cell_type": "markdown",
      "metadata": {
        "id": "lzFeLze0io9m"
      },
      "source": [
        "## Understanding the Match Results"
      ]
    },
    {
      "cell_type": "code",
      "metadata": {
        "colab": {
          "base_uri": "https://localhost:8080/"
        },
        "id": "hxH4gK8qixm6",
        "outputId": "1f742660-5010-450e-e21e-5b6212c95149"
      },
      "source": [
        "matches['result'].value_counts()"
      ],
      "execution_count": 45,
      "outputs": [
        {
          "output_type": "execute_result",
          "data": {
            "text/plain": [
              "normal       741\n",
              "tie            9\n",
              "no result      4\n",
              "Name: result, dtype: int64"
            ]
          },
          "metadata": {},
          "execution_count": 45
        }
      ]
    },
    {
      "cell_type": "code",
      "metadata": {
        "colab": {
          "base_uri": "https://localhost:8080/"
        },
        "id": "wX6gvgvpi-l-",
        "outputId": "2c0ad279-0ed7-412d-b65b-d736c2deb824"
      },
      "source": [
        "normal = matches[matches['result'] == 'normal']\n",
        "tie = matches[matches['result'] == 'tie']\n",
        "\n",
        "print(\"Percentage of matches where result is normal : \", round(normal.shape[0]/matches.shape[0], 2)*100)\n",
        "print(\"Percentage of matches where result is tie : \", round(tie.shape[0]/matches.shape[0], 2)*100)"
      ],
      "execution_count": 46,
      "outputs": [
        {
          "output_type": "stream",
          "name": "stdout",
          "text": [
            "Percentage of matches where result is normal :  98.0\n",
            "Percentage of matches where result is tie :  1.0\n"
          ]
        }
      ]
    },
    {
      "cell_type": "markdown",
      "metadata": {
        "id": "VlyzZg-76XAe"
      },
      "source": [
        "## Total Wins Per Team"
      ]
    },
    {
      "cell_type": "code",
      "metadata": {
        "id": "U3KbkBh_6egF"
      },
      "source": [
        "wins = pd.DataFrame({'Total_Matches_Played' : matches['team1'].value_counts() + matches['team2'].value_counts(),\n",
        "                     'Total_Wins' : matches['winner'].value_counts()})"
      ],
      "execution_count": 47,
      "outputs": []
    },
    {
      "cell_type": "code",
      "metadata": {
        "id": "n-ai0mbgbxKP"
      },
      "source": [
        "wins['Win%'] = ((wins['Total_Wins']/wins['Total_Matches_Played'])*100).round(2)"
      ],
      "execution_count": 48,
      "outputs": []
    },
    {
      "cell_type": "code",
      "metadata": {
        "colab": {
          "base_uri": "https://localhost:8080/",
          "height": 452
        },
        "id": "6pLuDWc2Djy1",
        "outputId": "31df76aa-01cc-4452-80f6-3c3bcb2ca19e"
      },
      "source": [
        "wins"
      ],
      "execution_count": 49,
      "outputs": [
        {
          "output_type": "execute_result",
          "data": {
            "text/html": [
              "<div>\n",
              "<style scoped>\n",
              "    .dataframe tbody tr th:only-of-type {\n",
              "        vertical-align: middle;\n",
              "    }\n",
              "\n",
              "    .dataframe tbody tr th {\n",
              "        vertical-align: top;\n",
              "    }\n",
              "\n",
              "    .dataframe thead th {\n",
              "        text-align: right;\n",
              "    }\n",
              "</style>\n",
              "<table border=\"1\" class=\"dataframe\">\n",
              "  <thead>\n",
              "    <tr style=\"text-align: right;\">\n",
              "      <th></th>\n",
              "      <th>Total_Matches_Played</th>\n",
              "      <th>Total_Wins</th>\n",
              "      <th>Win%</th>\n",
              "    </tr>\n",
              "  </thead>\n",
              "  <tbody>\n",
              "    <tr>\n",
              "      <th>Chennai Super Kings</th>\n",
              "      <td>164.0</td>\n",
              "      <td>100</td>\n",
              "      <td>60.98</td>\n",
              "    </tr>\n",
              "    <tr>\n",
              "      <th>Delhi Capitals</th>\n",
              "      <td>175.0</td>\n",
              "      <td>76</td>\n",
              "      <td>43.43</td>\n",
              "    </tr>\n",
              "    <tr>\n",
              "      <th>Draw</th>\n",
              "      <td>NaN</td>\n",
              "      <td>4</td>\n",
              "      <td>NaN</td>\n",
              "    </tr>\n",
              "    <tr>\n",
              "      <th>Gujarat Lions</th>\n",
              "      <td>30.0</td>\n",
              "      <td>13</td>\n",
              "      <td>43.33</td>\n",
              "    </tr>\n",
              "    <tr>\n",
              "      <th>Kings XI Punjab</th>\n",
              "      <td>176.0</td>\n",
              "      <td>82</td>\n",
              "      <td>46.59</td>\n",
              "    </tr>\n",
              "    <tr>\n",
              "      <th>Kochi Tuskers Kerala</th>\n",
              "      <td>14.0</td>\n",
              "      <td>6</td>\n",
              "      <td>42.86</td>\n",
              "    </tr>\n",
              "    <tr>\n",
              "      <th>Kolkata Knight Riders</th>\n",
              "      <td>178.0</td>\n",
              "      <td>92</td>\n",
              "      <td>51.69</td>\n",
              "    </tr>\n",
              "    <tr>\n",
              "      <th>Mumbai Indians</th>\n",
              "      <td>187.0</td>\n",
              "      <td>109</td>\n",
              "      <td>58.29</td>\n",
              "    </tr>\n",
              "    <tr>\n",
              "      <th>Pune Warriors</th>\n",
              "      <td>46.0</td>\n",
              "      <td>12</td>\n",
              "      <td>26.09</td>\n",
              "    </tr>\n",
              "    <tr>\n",
              "      <th>Rajasthan Royals</th>\n",
              "      <td>147.0</td>\n",
              "      <td>75</td>\n",
              "      <td>51.02</td>\n",
              "    </tr>\n",
              "    <tr>\n",
              "      <th>Rising Pune Supergiants</th>\n",
              "      <td>30.0</td>\n",
              "      <td>15</td>\n",
              "      <td>50.00</td>\n",
              "    </tr>\n",
              "    <tr>\n",
              "      <th>Royal Challengers Bangalore</th>\n",
              "      <td>179.0</td>\n",
              "      <td>83</td>\n",
              "      <td>46.37</td>\n",
              "    </tr>\n",
              "    <tr>\n",
              "      <th>Sunrisers Hyderabad</th>\n",
              "      <td>182.0</td>\n",
              "      <td>87</td>\n",
              "      <td>47.80</td>\n",
              "    </tr>\n",
              "  </tbody>\n",
              "</table>\n",
              "</div>"
            ],
            "text/plain": [
              "                             Total_Matches_Played  Total_Wins   Win%\n",
              "Chennai Super Kings                         164.0         100  60.98\n",
              "Delhi Capitals                              175.0          76  43.43\n",
              "Draw                                          NaN           4    NaN\n",
              "Gujarat Lions                                30.0          13  43.33\n",
              "Kings XI Punjab                             176.0          82  46.59\n",
              "Kochi Tuskers Kerala                         14.0           6  42.86\n",
              "Kolkata Knight Riders                       178.0          92  51.69\n",
              "Mumbai Indians                              187.0         109  58.29\n",
              "Pune Warriors                                46.0          12  26.09\n",
              "Rajasthan Royals                            147.0          75  51.02\n",
              "Rising Pune Supergiants                      30.0          15  50.00\n",
              "Royal Challengers Bangalore                 179.0          83  46.37\n",
              "Sunrisers Hyderabad                         182.0          87  47.80"
            ]
          },
          "metadata": {},
          "execution_count": 49
        }
      ]
    },
    {
      "cell_type": "markdown",
      "metadata": {
        "id": "o2TvFaZwpJM1"
      },
      "source": [
        "## Probabilty for a Team to Win if they Win the Toss "
      ]
    },
    {
      "cell_type": "code",
      "metadata": {
        "colab": {
          "base_uri": "https://localhost:8080/"
        },
        "id": "pand0s7zpUG3",
        "outputId": "576dac21-5362-49a8-8416-e6e1c138f380"
      },
      "source": [
        "same = matches[matches['toss_winner'] == matches['winner']]\n",
        "not_same = matches[matches['toss_winner'] != matches['winner']]\n",
        "\n",
        "print(\"The percentage of matches where toss winner is same as winner : \", round(same.shape[0]/matches.shape[0],2)*100)\n",
        "print(\"The percentage of matches where toss winner is not same as winner : \", round(not_same.shape[0]/matches.shape[0],2)*100)"
      ],
      "execution_count": 50,
      "outputs": [
        {
          "output_type": "stream",
          "name": "stdout",
          "text": [
            "The percentage of matches where toss winner is same as winner :  52.0\n",
            "The percentage of matches where toss winner is not same as winner :  48.0\n"
          ]
        }
      ]
    },
    {
      "cell_type": "markdown",
      "metadata": {
        "id": "FYWRBC5HHkO6"
      },
      "source": [
        "## Most Lucky Grounds for Teams"
      ]
    },
    {
      "cell_type": "code",
      "metadata": {
        "colab": {
          "base_uri": "https://localhost:8080/",
          "height": 173,
          "referenced_widgets": [
            "7fa686f25495462d86e7850828dba411",
            "314e6b18488e42228db6abaecc2e249d",
            "5543624495ea415393352a0b6a0b8720",
            "631458e2b96245629fe7b55f75e6f634",
            "523c364731e9448481146e2c9431d1d1",
            "cf67575f3ecd4980a7f7ce59a6e743b6",
            "3e9f457308a54d2693902cea96ff44d0"
          ]
        },
        "id": "1lF9xLVNHoTp",
        "outputId": "222c076c-494a-4d75-ef31-12e26a6603b2"
      },
      "source": [
        "@interact\n",
        "def lucky(team_name = list(matches['team1'].value_counts().index)):\n",
        "  values =  matches[matches['winner'] == team_name][['city', 'venue']].value_counts().nlargest(5)\n",
        "  return values"
      ],
      "execution_count": 51,
      "outputs": [
        {
          "output_type": "display_data",
          "data": {
            "application/vnd.jupyter.widget-view+json": {
              "model_id": "7fa686f25495462d86e7850828dba411",
              "version_minor": 0,
              "version_major": 2
            },
            "text/plain": [
              "interactive(children=(Dropdown(description='team_name', options=('Sunrisers Hyderabad', 'Mumbai Indians', 'Kin…"
            ]
          },
          "metadata": {}
        }
      ]
    },
    {
      "cell_type": "markdown",
      "metadata": {
        "id": "sXHljPzXIdpy"
      },
      "source": [
        "## Comparison Between 2 Teams Based on their Wins"
      ]
    },
    {
      "cell_type": "code",
      "metadata": {
        "id": "sTjVK90KIhX0"
      },
      "source": [
        "def comparison(team1, team2):\n",
        "  compare = combined[((combined['team1'] == team1)|(combined['team2'] == team1))&((combined['team1'] == team2)|(combined['team2'] == team2))]\n",
        "  sns.countplot(x='season', hue='winner', data=compare)"
      ],
      "execution_count": 52,
      "outputs": []
    },
    {
      "cell_type": "code",
      "metadata": {
        "colab": {
          "base_uri": "https://localhost:8080/"
        },
        "id": "me8vV7mjNjMN",
        "outputId": "2a1306a0-1faf-42b2-ed69-991ec5ec5604"
      },
      "source": [
        "combined.team1.unique()"
      ],
      "execution_count": 53,
      "outputs": [
        {
          "output_type": "execute_result",
          "data": {
            "text/plain": [
              "array(['Sunrisers Hyderabad', 'Mumbai Indians', 'Gujarat Lions',\n",
              "       'Rising Pune Supergiant', 'Royal Challengers Bangalore',\n",
              "       'Kolkata Knight Riders', 'Delhi Daredevils', 'Kings XI Punjab',\n",
              "       'Chennai Super Kings', 'Rajasthan Royals', 'Deccan Chargers',\n",
              "       'Kochi Tuskers Kerala', 'Pune Warriors', 'Rising Pune Supergiants',\n",
              "       'Delhi Capitals'], dtype=object)"
            ]
          },
          "metadata": {},
          "execution_count": 53
        }
      ]
    },
    {
      "cell_type": "code",
      "metadata": {
        "colab": {
          "base_uri": "https://localhost:8080/",
          "height": 279
        },
        "id": "3ft67T2NNf4G",
        "outputId": "9b9c70a9-0b61-489d-aea8-19d6a0ec1533"
      },
      "source": [
        "comparison('Mumbai Indians', 'Chennai Super Kings')"
      ],
      "execution_count": 54,
      "outputs": [
        {
          "output_type": "display_data",
          "data": {
            "image/png": "[encoded data removed]",
            "text/plain": [
              "<Figure size 432x288 with 1 Axes>"
            ]
          },
          "metadata": {
            "needs_background": "light"
          }
        }
      ]
    },
    {
      "cell_type": "markdown",
      "metadata": {
        "id": "2-ZCKG4EDkvZ"
      },
      "source": [
        "# Machine Learning"
      ]
    },
    {
      "cell_type": "markdown",
      "metadata": {
        "id": "L_-uhrfMm4_9"
      },
      "source": [
        "## Data Encoding"
      ]
    },
    {
      "cell_type": "code",
      "metadata": {
        "id": "n4378B_vFbJQ"
      },
      "source": [
        "df = matches[['team1', 'team2', 'city', 'toss_winner', 'toss_decision', 'winner', 'venue']].copy()"
      ],
      "execution_count": 55,
      "outputs": []
    },
    {
      "cell_type": "code",
      "metadata": {
        "id": "xKpmnX5rFbEE"
      },
      "source": [
        "df.replace({'team1': {'Kolkata Knight Riders':1,'Chennai Super Kings':2,'Rajasthan Royals':3,'Mumbai Indians':4,'Sunrisers Hyderabad':5,\n",
        "                    'Kings XI Punjab':6,'Royal Challengers Bangalore':7,'Delhi Capitals':8,'Kochi Tuskers Kerala':9,\n",
        "                    'Rising Pune Supergiants':10,'Gujarat Lions':11,'Pune Warriors':12}, \n",
        "            \n",
        "            'team2': {'Kolkata Knight Riders':1,'Chennai Super Kings':2,'Rajasthan Royals':3,'Mumbai Indians':4,'Sunrisers Hyderabad':5,\n",
        "                   'Kings XI Punjab':6,'Royal Challengers Bangalore':7,'Delhi Capitals':8,'Kochi Tuskers Kerala':9,\n",
        "                   'Rising Pune Supergiants':10,'Gujarat Lions':11,'Pune Warriors':12},\n",
        "            \n",
        "            'toss_winner': {'Kolkata Knight Riders':1,'Chennai Super Kings':2,'Rajasthan Royals':3,'Mumbai Indians':4,'Sunrisers Hyderabad':5,\n",
        "                         'Kings XI Punjab':6,'Royal Challengers Bangalore':7,'Delhi Capitals':8,'Kochi Tuskers Kerala':9,\n",
        "                         'Rising Pune Supergiants':10,'Gujarat Lions':11,'Pune Warriors':12},\n",
        "            \n",
        "            'toss_decision' : {'field' : 0, 'bat' : 1},\n",
        "            \n",
        "            'winner': {'Kolkata Knight Riders':1,'Chennai Super Kings':2,'Rajasthan Royals':3,'Mumbai Indians':4,'Sunrisers Hyderabad':5,\n",
        "                     'Kings XI Punjab':6,'Royal Challengers Bangalore':7,'Delhi Capitals':8,'Kochi Tuskers Kerala':9,\n",
        "                     'Rising Pune Supergiants':10,'Gujarat Lions':11,'Pune Warriors':12,'Draw':13}}, inplace=True)\n"
      ],
      "execution_count": 56,
      "outputs": []
    },
    {
      "cell_type": "code",
      "metadata": {
        "id": "DRbqcsOcNjSk"
      },
      "source": [
        "label_encoder = preprocessing.LabelEncoder()"
      ],
      "execution_count": 57,
      "outputs": []
    },
    {
      "cell_type": "code",
      "metadata": {
        "id": "urCSbld5NilN"
      },
      "source": [
        "df['city']= label_encoder.fit_transform(df['city'])\n",
        "df['venue']= label_encoder.fit_transform(df['venue'])"
      ],
      "execution_count": 58,
      "outputs": []
    },
    {
      "cell_type": "code",
      "metadata": {
        "colab": {
          "base_uri": "https://localhost:8080/",
          "height": 204
        },
        "id": "8w_6HZDxpCnV",
        "outputId": "f7a2b234-b85f-4ec8-b461-a81d63e03735"
      },
      "source": [
        "df.head()"
      ],
      "execution_count": 59,
      "outputs": [
        {
          "output_type": "execute_result",
          "data": {
            "text/html": [
              "<div>\n",
              "<style scoped>\n",
              "    .dataframe tbody tr th:only-of-type {\n",
              "        vertical-align: middle;\n",
              "    }\n",
              "\n",
              "    .dataframe tbody tr th {\n",
              "        vertical-align: top;\n",
              "    }\n",
              "\n",
              "    .dataframe thead th {\n",
              "        text-align: right;\n",
              "    }\n",
              "</style>\n",
              "<table border=\"1\" class=\"dataframe\">\n",
              "  <thead>\n",
              "    <tr style=\"text-align: right;\">\n",
              "      <th></th>\n",
              "      <th>team1</th>\n",
              "      <th>team2</th>\n",
              "      <th>city</th>\n",
              "      <th>toss_winner</th>\n",
              "      <th>toss_decision</th>\n",
              "      <th>winner</th>\n",
              "      <th>venue</th>\n",
              "    </tr>\n",
              "  </thead>\n",
              "  <tbody>\n",
              "    <tr>\n",
              "      <th>0</th>\n",
              "      <td>5</td>\n",
              "      <td>7</td>\n",
              "      <td>14</td>\n",
              "      <td>7</td>\n",
              "      <td>0</td>\n",
              "      <td>5</td>\n",
              "      <td>28</td>\n",
              "    </tr>\n",
              "    <tr>\n",
              "      <th>1</th>\n",
              "      <td>4</td>\n",
              "      <td>10</td>\n",
              "      <td>26</td>\n",
              "      <td>10</td>\n",
              "      <td>0</td>\n",
              "      <td>10</td>\n",
              "      <td>21</td>\n",
              "    </tr>\n",
              "    <tr>\n",
              "      <th>2</th>\n",
              "      <td>11</td>\n",
              "      <td>1</td>\n",
              "      <td>28</td>\n",
              "      <td>1</td>\n",
              "      <td>0</td>\n",
              "      <td>1</td>\n",
              "      <td>31</td>\n",
              "    </tr>\n",
              "    <tr>\n",
              "      <th>3</th>\n",
              "      <td>10</td>\n",
              "      <td>6</td>\n",
              "      <td>15</td>\n",
              "      <td>6</td>\n",
              "      <td>0</td>\n",
              "      <td>6</td>\n",
              "      <td>13</td>\n",
              "    </tr>\n",
              "    <tr>\n",
              "      <th>5</th>\n",
              "      <td>11</td>\n",
              "      <td>5</td>\n",
              "      <td>14</td>\n",
              "      <td>5</td>\n",
              "      <td>0</td>\n",
              "      <td>5</td>\n",
              "      <td>28</td>\n",
              "    </tr>\n",
              "  </tbody>\n",
              "</table>\n",
              "</div>"
            ],
            "text/plain": [
              "   team1  team2  city  toss_winner  toss_decision  winner  venue\n",
              "0      5      7    14            7              0       5     28\n",
              "1      4     10    26           10              0      10     21\n",
              "2     11      1    28            1              0       1     31\n",
              "3     10      6    15            6              0       6     13\n",
              "5     11      5    14            5              0       5     28"
            ]
          },
          "metadata": {},
          "execution_count": 59
        }
      ]
    },
    {
      "cell_type": "code",
      "metadata": {
        "colab": {
          "base_uri": "https://localhost:8080/"
        },
        "id": "HcELCKvPNiiV",
        "outputId": "8ddc2ec4-1a43-4df0-8326-a5824bb53cc3"
      },
      "source": [
        "df.dtypes"
      ],
      "execution_count": 60,
      "outputs": [
        {
          "output_type": "execute_result",
          "data": {
            "text/plain": [
              "team1            int64\n",
              "team2            int64\n",
              "city             int64\n",
              "toss_winner      int64\n",
              "toss_decision    int64\n",
              "winner           int64\n",
              "venue            int64\n",
              "dtype: object"
            ]
          },
          "metadata": {},
          "execution_count": 60
        }
      ]
    },
    {
      "cell_type": "code",
      "metadata": {
        "id": "PSz1rLPcFa88"
      },
      "source": [
        "X = df[['team1', 'team2', 'city', 'toss_winner', 'toss_decision', 'venue']].values\n",
        "y = df['winner'].values"
      ],
      "execution_count": 61,
      "outputs": []
    },
    {
      "cell_type": "markdown",
      "metadata": {
        "id": "Xb49Rrxo9nHt"
      },
      "source": [
        "## Preporcessing the Data"
      ]
    },
    {
      "cell_type": "code",
      "metadata": {
        "id": "Jg9SrDzkdzsI"
      },
      "source": [
        "sc = StandardScaler()\n",
        "X = sc.fit_transform(X)"
      ],
      "execution_count": 62,
      "outputs": []
    },
    {
      "cell_type": "markdown",
      "metadata": {
        "id": "q5q0PAQZ9HVA"
      },
      "source": [
        "## Splitting the Dataset"
      ]
    },
    {
      "cell_type": "code",
      "metadata": {
        "id": "JPF-tHB2V-Lq"
      },
      "source": [
        "X_train, X_test, y_train, y_test = train_test_split(X, y)"
      ],
      "execution_count": 63,
      "outputs": []
    },
    {
      "cell_type": "code",
      "metadata": {
        "id": "wIYdzTjN_v08"
      },
      "source": [
        "sc_x= StandardScaler()\n",
        "X_train=sc_x.fit_transform(X_train)\n",
        "X_test=sc_x.transform(X_test)"
      ],
      "execution_count": 64,
      "outputs": []
    },
    {
      "cell_type": "markdown",
      "metadata": {
        "id": "BPbdhe-j9qqg"
      },
      "source": [
        "## Training the Model"
      ]
    },
    {
      "cell_type": "code",
      "metadata": {
        "id": "gRnEbH-dv6LN"
      },
      "source": [
        "xgb = XGBClassifier(learning_rate = 0.05,\n",
        "                    n_estimators=10,\n",
        "                    max_depth=10,\n",
        "                    nthread=5,\n",
        "                    n_jobs=1,\n",
        "                    random_state=1\n",
        "                    )"
      ],
      "execution_count": 65,
      "outputs": []
    },
    {
      "cell_type": "code",
      "metadata": {
        "colab": {
          "base_uri": "https://localhost:8080/"
        },
        "id": "OhrnzOU99Taq",
        "outputId": "56ab89d5-f1ac-42a3-e3b2-1267888be3e1"
      },
      "source": [
        "xgb.fit(X_train, y_train)"
      ],
      "execution_count": 66,
      "outputs": [
        {
          "output_type": "execute_result",
          "data": {
            "text/plain": [
              "XGBClassifier(base_score=0.5, booster='gbtree', colsample_bylevel=1,\n",
              "              colsample_bynode=1, colsample_bytree=1, gamma=0,\n",
              "              learning_rate=0.05, max_delta_step=0, max_depth=10,\n",
              "              min_child_weight=1, missing=None, n_estimators=10, n_jobs=1,\n",
              "              nthread=5, objective='multi:softprob', random_state=1,\n",
              "              reg_alpha=0, reg_lambda=1, scale_pos_weight=1, seed=None,\n",
              "              silent=None, subsample=1, verbosity=1)"
            ]
          },
          "metadata": {},
          "execution_count": 66
        }
      ]
    },
    {
      "cell_type": "markdown",
      "metadata": {
        "id": "tYQLKM-s9tEN"
      },
      "source": [
        "## Predicting Winners"
      ]
    },
    {
      "cell_type": "code",
      "metadata": {
        "id": "JF7j7b8i9VGj"
      },
      "source": [
        "y_pred = xgb.predict(X_test)"
      ],
      "execution_count": 67,
      "outputs": []
    },
    {
      "cell_type": "markdown",
      "metadata": {
        "id": "ImFPnnY-9wN6"
      },
      "source": [
        "## Displaying Accuracy"
      ]
    },
    {
      "cell_type": "code",
      "metadata": {
        "colab": {
          "base_uri": "https://localhost:8080/"
        },
        "id": "1YZPofX4EgnY",
        "outputId": "4050ec1c-7a7b-4963-8bc7-cd1fd6b51f93"
      },
      "source": [
        "xgb.score(X_test, y_test)"
      ],
      "execution_count": 68,
      "outputs": [
        {
          "output_type": "execute_result",
          "data": {
            "text/plain": [
              "0.6084656084656085"
            ]
          },
          "metadata": {},
          "execution_count": 68
        }
      ]
    }
  ]
}